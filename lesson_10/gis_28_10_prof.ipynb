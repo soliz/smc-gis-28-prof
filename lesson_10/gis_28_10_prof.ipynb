{
 "cells": [
  {
   "cell_type": "markdown",
   "metadata": {},
   "source": [
    "# Lesson 10 - Fetching Data - Files & APIs"
   ]
  },
  {
   "cell_type": "markdown",
   "metadata": {},
   "source": [
    "# URL Library `urllib`\n",
    "\n",
    "- Uniform Resource Locator (an 'address' for the thing you wan on The Internet) \n",
    "- Library (Other's code we can use)\n",
    "\n",
    "[`https://docs.python.org/3/library/urllib.html`](https://docs.python.org/3/library/urllib.html)"
   ]
  },
  {
   "cell_type": "markdown",
   "metadata": {},
   "source": [
    "- We've been indirectly using `urllib` everytime we loaded data into pandas by reading from a url.\n",
    "- Here's a snapshot of the pandas making use of `urllib`\n",
    "\n",
    "![pandas_uses_urllib.png](./img/pandas_uses_urllib.png)\n",
    "\n",
    "[`https://github.com/pandas-dev/pandas/blob/a8968bfa696d51f73769c54f2630a9530488236a/pandas/io/common.py#L232`](https://github.com/pandas-dev/pandas/blob/a8968bfa696d51f73769c54f2630a9530488236a/pandas/io/common.py#L232)"
   ]
  },
  {
   "cell_type": "markdown",
   "metadata": {},
   "source": [
    "---\n",
    "CONTINUE HERE\n",
    "\n",
    "---"
   ]
  },
  {
   "cell_type": "markdown",
   "metadata": {},
   "source": [
    "### [How to: Fetch Internet Resources Using The urllib Package](https://docs.python.org/3/howto/urllib2.html)\n",
    "\n",
    "You can read `html` as well as actual files and data with `urllib`. \n",
    "\n",
    "A use case of this, is perhaps you need to download files based on a URL. "
   ]
  },
  {
   "cell_type": "markdown",
   "metadata": {},
   "source": [
    "#### Let's import `urllib.request`"
   ]
  },
  {
   "cell_type": "code",
   "execution_count": 5,
   "metadata": {},
   "outputs": [],
   "source": [
    "import urllib"
   ]
  },
  {
   "cell_type": "markdown",
   "metadata": {},
   "source": [
    "## Downloading files with `urllib` example. \n",
    "\n",
    "#### An example of where we may want to request and download files may be Shapefiles from the US Census Website\n",
    "\n",
    "[![shapefiles](tiger_screenshot.png)](https://www2.census.gov/geo/tiger/TIGER2021/TRACT/)\n",
    "\n",
    "#### Each State Census Tract Shapefile is zipped into a .zip file and has it's own URL endpoint. \n",
    " \n",
    "The endpoints are unique based on the GEOID for the State. \n",
    "\n",
    "Example URL:\n",
    "`https://www2.census.gov/geo/tiger/TIGER2021/TRACT/tl_2021_01_tract.zip`\n",
    "\n",
    "California is GEOID 06. See a list of all the State FIPS codes [https://en.wikipedia.org/wiki/Federal_Information_Processing_Standard_state_code](https://en.wikipedia.org/wiki/Federal_Information_Processing_Standard_state_code). "
   ]
  },
  {
   "cell_type": "code",
   "execution_count": 2,
   "metadata": {},
   "outputs": [],
   "source": [
    "file_url = 'https://www2.census.gov/geo/tiger/TIGER2021/TRACT/tl_2021_06_tract.zip'"
   ]
  },
  {
   "cell_type": "markdown",
   "metadata": {},
   "source": [
    "#### From `urllib.reqeust`, let's use `urlretrieve()` to access this url for this file and download it. "
   ]
  },
  {
   "cell_type": "code",
   "execution_count": 6,
   "metadata": {},
   "outputs": [],
   "source": [
    "import urllib "
   ]
  },
  {
   "cell_type": "code",
   "execution_count": 7,
   "metadata": {},
   "outputs": [
    {
     "data": {
      "text/plain": [
       "('data/tl_2021_06_tract.zip', <http.client.HTTPMessage at 0x7f30683e1f30>)"
      ]
     },
     "execution_count": 7,
     "metadata": {},
     "output_type": "execute_result"
    }
   ],
   "source": [
    "urllib.request.urlretrieve(file_url, 'data/tl_2021_06_tract.zip')"
   ]
  },
  {
   "cell_type": "markdown",
   "metadata": {},
   "source": [
    "#### Say you wanted to get the states of California, Texas, and New York \n",
    "\n",
    "`['06', '48', '36']`"
   ]
  },
  {
   "cell_type": "code",
   "execution_count": 9,
   "metadata": {},
   "outputs": [],
   "source": [
    "list_ca_tx_ny_fips = ['06', '48', '36']"
   ]
  },
  {
   "cell_type": "markdown",
   "metadata": {},
   "source": [
    "#### Create a loop "
   ]
  },
  {
   "cell_type": "code",
   "execution_count": 20,
   "metadata": {},
   "outputs": [
    {
     "name": "stdout",
     "output_type": "stream",
     "text": [
      "06\n",
      "48\n",
      "36\n"
     ]
    }
   ],
   "source": [
    "for fips in list_ca_tx_ny_fips:\n",
    "    print(fips)\n",
    "    file_url = f'https://www2.census.gov/geo/tiger/TIGER2021/TRACT/tl_2021_{fips}_tract.zip'\n",
    "    urllib.request.urlretrieve(file_url, f'data/tl_2021_{fips}_tract.zip')  "
   ]
  },
  {
   "cell_type": "markdown",
   "metadata": {},
   "source": [
    "###### FYI: You may need a `try: except:` as sometimes url's and responses get interrupted. "
   ]
  },
  {
   "cell_type": "markdown",
   "metadata": {},
   "source": [
    "#### Unzipping `.zip` files in Python"
   ]
  },
  {
   "cell_type": "markdown",
   "metadata": {},
   "source": [
    "#### Import `zipfile`"
   ]
  },
  {
   "cell_type": "code",
   "execution_count": 21,
   "metadata": {},
   "outputs": [],
   "source": [
    "import zipfile"
   ]
  },
  {
   "cell_type": "markdown",
   "metadata": {},
   "source": [
    "#### Read our zipfile as a `ZipFile` "
   ]
  },
  {
   "cell_type": "code",
   "execution_count": 22,
   "metadata": {},
   "outputs": [
    {
     "data": {
      "text/plain": [
       "<zipfile.ZipFile filename='data/tl_2021_06_tract.zip' mode='r'>"
      ]
     },
     "execution_count": 22,
     "metadata": {},
     "output_type": "execute_result"
    }
   ],
   "source": [
    "z = zipfile.ZipFile('data/tl_2021_06_tract.zip')\n",
    "\n",
    "z"
   ]
  },
  {
   "cell_type": "markdown",
   "metadata": {},
   "source": [
    "#### Let's extract our zipfile object `z`"
   ]
  },
  {
   "cell_type": "code",
   "execution_count": 23,
   "metadata": {},
   "outputs": [],
   "source": [
    "z.extractall('data/test_extract/')"
   ]
  },
  {
   "cell_type": "markdown",
   "metadata": {},
   "source": [
    "#### Now let's loop through our Big State Shapefiles"
   ]
  },
  {
   "cell_type": "code",
   "execution_count": 24,
   "metadata": {},
   "outputs": [],
   "source": [
    "for fips in list_ca_tx_ny_fips:\n",
    "    z = zipfile.ZipFile(f'data/tl_2021_{fips}_tract.zip')\n",
    "    z.extractall('data/big_state_tracts')"
   ]
  },
  {
   "cell_type": "markdown",
   "metadata": {},
   "source": [
    "# Glob a Directory to search for a list of files\n",
    "\n",
    "> The glob module finds all the pathnames matching a specified pattern according to the rules used by the Unix shell, although results are returned in arbitrary order. No tilde expansion is done, but *, ?, and character ranges expressed with [] will be correctly matched. This is done by using the os.scandir() and fnmatch.fnmatch() functions in concert, and not by actually invoking a subshell. Note that unlike fnmatch.fnmatch(), glob treats filenames beginning with a dot (.) as special cases. (For tilde and shell variable expansion, use os.path.expanduser() and os.path.expandvars().) Source: https://docs.python.org/3/library/glob.html\n",
    "\n",
    "\n",
    "#### Import `glob`"
   ]
  },
  {
   "cell_type": "code",
   "execution_count": 25,
   "metadata": {},
   "outputs": [],
   "source": [
    "import glob"
   ]
  },
  {
   "cell_type": "markdown",
   "metadata": {},
   "source": [
    "#### Search our `data/new_england_tracts` folder for any files using * as our wildcard"
   ]
  },
  {
   "cell_type": "code",
   "execution_count": 27,
   "metadata": {},
   "outputs": [
    {
     "data": {
      "text/plain": [
       "['data/big_state_tracts/tl_2021_48_tract.prj',\n",
       " 'data/big_state_tracts/tl_2021_36_tract.dbf',\n",
       " 'data/big_state_tracts/tl_2021_36_tract.prj',\n",
       " 'data/big_state_tracts/tl_2021_06_tract.prj',\n",
       " 'data/big_state_tracts/tl_2021_06_tract.shp.ea.iso.xml',\n",
       " 'data/big_state_tracts/tl_2021_36_tract.shx',\n",
       " 'data/big_state_tracts/tl_2021_06_tract.dbf',\n",
       " 'data/big_state_tracts/tl_2021_06_tract.shx',\n",
       " 'data/big_state_tracts/tl_2021_36_tract.shp.ea.iso.xml',\n",
       " 'data/big_state_tracts/tl_2021_48_tract.shx',\n",
       " 'data/big_state_tracts/tl_2021_06_tract.cpg',\n",
       " 'data/big_state_tracts/tl_2021_48_tract.cpg',\n",
       " 'data/big_state_tracts/tl_2021_48_tract.shp',\n",
       " 'data/big_state_tracts/tl_2021_48_tract.dbf',\n",
       " 'data/big_state_tracts/tl_2021_36_tract.cpg',\n",
       " 'data/big_state_tracts/tl_2021_48_tract.shp.iso.xml',\n",
       " 'data/big_state_tracts/tl_2021_36_tract.shp',\n",
       " 'data/big_state_tracts/tl_2021_06_tract.shp',\n",
       " 'data/big_state_tracts/tl_2021_36_tract.shp.iso.xml',\n",
       " 'data/big_state_tracts/tl_2021_48_tract.shp.ea.iso.xml',\n",
       " 'data/big_state_tracts/tl_2021_06_tract.shp.iso.xml']"
      ]
     },
     "execution_count": 27,
     "metadata": {},
     "output_type": "execute_result"
    }
   ],
   "source": [
    "glob.glob('data/big_state_tracts/*')"
   ]
  },
  {
   "cell_type": "markdown",
   "metadata": {},
   "source": [
    "#### So let's say we wanted just to `glob` the `.shp` files"
   ]
  },
  {
   "cell_type": "code",
   "execution_count": 28,
   "metadata": {},
   "outputs": [
    {
     "data": {
      "text/plain": [
       "['data/big_state_tracts/tl_2021_48_tract.shp',\n",
       " 'data/big_state_tracts/tl_2021_36_tract.shp',\n",
       " 'data/big_state_tracts/tl_2021_06_tract.shp']"
      ]
     },
     "execution_count": 28,
     "metadata": {},
     "output_type": "execute_result"
    }
   ],
   "source": [
    "glob.glob('data/big_state_tracts/*.shp')"
   ]
  },
  {
   "cell_type": "markdown",
   "metadata": {},
   "source": [
    "#### Let's read all the shapefiles in this directory into GeoDataFrames and then append together. "
   ]
  },
  {
   "cell_type": "code",
   "execution_count": 31,
   "metadata": {},
   "outputs": [],
   "source": [
    "list_gdf_from_shape_files = []\n",
    "\n",
    "for shp in glob.glob('data/big_state_tracts/*.shp'):\n",
    "    gdf = gpd.read_file(shp)\n",
    "    \n",
    "    list_gdf_from_shape_files.append(gdf)"
   ]
  },
  {
   "cell_type": "markdown",
   "metadata": {
    "jp-MarkdownHeadingCollapsed": true,
    "tags": []
   },
   "source": [
    "# Pandas Concat \n",
    "\n",
    "> The concat() function (in the main pandas namespace) does all of the heavy lifting of performing concatenation operations along an axis while performing optional set logic (union or intersection) of the indexes (if any) on the other axes. Note that I say “if any” because there is only a single possible axis of concatenation for Series. Source: https://pandas.pydata.org/pandas-docs/stable/user_guide/merging.html\n",
    "\n",
    "![concat](https://pandas.pydata.org/pandas-docs/stable/_images/merging_concat_basic.png)\n",
    "_Source: [https://pandas.pydata.org/pandas-docs/stable/user_guide/merging.html](https://pandas.pydata.org/pandas-docs/stable/user_guide/merging.html)_\n",
    "\n"
   ]
  },
  {
   "cell_type": "code",
   "execution_count": 32,
   "metadata": {},
   "outputs": [],
   "source": [
    "big_state_tracts_gdf = pd.concat(list_gdf_from_shape_files)"
   ]
  },
  {
   "cell_type": "markdown",
   "metadata": {},
   "source": [
    "#### Let's take a look at our `new_england_tracts` object"
   ]
  },
  {
   "cell_type": "code",
   "execution_count": 34,
   "metadata": {},
   "outputs": [
    {
     "data": {
      "image/png": "[encoded data removed]",
      "text/plain": [
       "<Figure size 432x288 with 1 Axes>"
      ]
     },
     "metadata": {
      "needs_background": "light"
     },
     "output_type": "display_data"
    }
   ],
   "source": [
    "big_state_tracts_gdf.plot();"
   ]
  },
  {
   "cell_type": "markdown",
   "metadata": {},
   "source": [
    "#### You may need to `pip install xlrd` for reading first"
   ]
  },
  {
   "cell_type": "code",
   "execution_count": 74,
   "metadata": {},
   "outputs": [],
   "source": [
    "#!pip install xlrd"
   ]
  },
  {
   "cell_type": "code",
   "execution_count": 79,
   "metadata": {},
   "outputs": [],
   "source": [
    "df = pd.read_excel('data/rollingsales_statenisland.xls')"
   ]
  },
  {
   "cell_type": "markdown",
   "metadata": {},
   "source": [
    "#### Let's take a look at our DataFrame `.head()`"
   ]
  },
  {
   "cell_type": "code",
   "execution_count": 81,
   "metadata": {},
   "outputs": [
    {
     "data": {
      "text/html": [
       "<div>\n",
       "<style scoped>\n",
       "    .dataframe tbody tr th:only-of-type {\n",
       "        vertical-align: middle;\n",
       "    }\n",
       "\n",
       "    .dataframe tbody tr th {\n",
       "        vertical-align: top;\n",
       "    }\n",
       "\n",
       "    .dataframe thead th {\n",
       "        text-align: right;\n",
       "    }\n",
       "</style>\n",
       "<table border=\"1\" class=\"dataframe\">\n",
       "  <thead>\n",
       "    <tr style=\"text-align: right;\">\n",
       "      <th></th>\n",
       "      <th>Staten Island Rolling Sales File.  All Sales From April 2019 - March 2020</th>\n",
       "      <th>Unnamed: 1</th>\n",
       "      <th>Unnamed: 2</th>\n",
       "      <th>Unnamed: 3</th>\n",
       "      <th>Unnamed: 4</th>\n",
       "      <th>Unnamed: 5</th>\n",
       "      <th>Unnamed: 6</th>\n",
       "      <th>Unnamed: 7</th>\n",
       "      <th>Unnamed: 8</th>\n",
       "      <th>Unnamed: 9</th>\n",
       "      <th>...</th>\n",
       "      <th>Unnamed: 11</th>\n",
       "      <th>Unnamed: 12</th>\n",
       "      <th>Unnamed: 13</th>\n",
       "      <th>Unnamed: 14</th>\n",
       "      <th>Unnamed: 15</th>\n",
       "      <th>Unnamed: 16</th>\n",
       "      <th>Unnamed: 17</th>\n",
       "      <th>Unnamed: 18</th>\n",
       "      <th>PTS Sales as of 04/15/2020</th>\n",
       "      <th>Unnamed: 20</th>\n",
       "    </tr>\n",
       "  </thead>\n",
       "  <tbody>\n",
       "    <tr>\n",
       "      <th>0</th>\n",
       "      <td>For sales prior to the Final, Neighborhood Nam...</td>\n",
       "      <td>NaN</td>\n",
       "      <td>NaN</td>\n",
       "      <td>NaN</td>\n",
       "      <td>NaN</td>\n",
       "      <td>NaN</td>\n",
       "      <td>NaN</td>\n",
       "      <td>NaN</td>\n",
       "      <td>NaN</td>\n",
       "      <td>NaN</td>\n",
       "      <td>...</td>\n",
       "      <td>NaN</td>\n",
       "      <td>NaN</td>\n",
       "      <td>NaN</td>\n",
       "      <td>NaN</td>\n",
       "      <td>NaN</td>\n",
       "      <td>NaN</td>\n",
       "      <td>NaN</td>\n",
       "      <td>NaN</td>\n",
       "      <td>NaN</td>\n",
       "      <td>NaN</td>\n",
       "    </tr>\n",
       "    <tr>\n",
       "      <th>1</th>\n",
       "      <td>Building Class Category is based on Building C...</td>\n",
       "      <td>NaN</td>\n",
       "      <td>NaN</td>\n",
       "      <td>NaN</td>\n",
       "      <td>NaN</td>\n",
       "      <td>NaN</td>\n",
       "      <td>NaN</td>\n",
       "      <td>NaN</td>\n",
       "      <td>NaN</td>\n",
       "      <td>NaN</td>\n",
       "      <td>...</td>\n",
       "      <td>NaN</td>\n",
       "      <td>NaN</td>\n",
       "      <td>NaN</td>\n",
       "      <td>NaN</td>\n",
       "      <td>NaN</td>\n",
       "      <td>NaN</td>\n",
       "      <td>NaN</td>\n",
       "      <td>NaN</td>\n",
       "      <td>NaN</td>\n",
       "      <td>NaN</td>\n",
       "    </tr>\n",
       "    <tr>\n",
       "      <th>2</th>\n",
       "      <td>Note: Condominium and cooperative sales are on...</td>\n",
       "      <td>NaN</td>\n",
       "      <td>NaN</td>\n",
       "      <td>NaN</td>\n",
       "      <td>NaN</td>\n",
       "      <td>NaN</td>\n",
       "      <td>NaN</td>\n",
       "      <td>NaN</td>\n",
       "      <td>NaN</td>\n",
       "      <td>NaN</td>\n",
       "      <td>...</td>\n",
       "      <td>NaN</td>\n",
       "      <td>NaN</td>\n",
       "      <td>NaN</td>\n",
       "      <td>NaN</td>\n",
       "      <td>NaN</td>\n",
       "      <td>NaN</td>\n",
       "      <td>NaN</td>\n",
       "      <td>NaN</td>\n",
       "      <td>NaN</td>\n",
       "      <td>NaN</td>\n",
       "    </tr>\n",
       "    <tr>\n",
       "      <th>3</th>\n",
       "      <td>BOROUGH</td>\n",
       "      <td>NEIGHBORHOOD</td>\n",
       "      <td>BUILDING CLASS CATEGORY</td>\n",
       "      <td>TAX CLASS AT PRESENT</td>\n",
       "      <td>BLOCK</td>\n",
       "      <td>LOT</td>\n",
       "      <td>EASE-MENT</td>\n",
       "      <td>BUILDING CLASS AT PRESENT</td>\n",
       "      <td>ADDRESS</td>\n",
       "      <td>APARTMENT NUMBER</td>\n",
       "      <td>...</td>\n",
       "      <td>RESIDENTIAL UNITS</td>\n",
       "      <td>COMMERCIAL UNITS</td>\n",
       "      <td>TOTAL UNITS</td>\n",
       "      <td>LAND SQUARE FEET</td>\n",
       "      <td>GROSS SQUARE FEET</td>\n",
       "      <td>YEAR BUILT</td>\n",
       "      <td>TAX CLASS AT TIME OF SALE</td>\n",
       "      <td>BUILDING CLASS AT TIME OF SALE</td>\n",
       "      <td>SALE PRICE</td>\n",
       "      <td>SALE DATE</td>\n",
       "    </tr>\n",
       "    <tr>\n",
       "      <th>4</th>\n",
       "      <td>5</td>\n",
       "      <td>ANNADALE</td>\n",
       "      <td>01 ONE FAMILY DWELLINGS</td>\n",
       "      <td>1</td>\n",
       "      <td>5391</td>\n",
       "      <td>13</td>\n",
       "      <td>NaN</td>\n",
       "      <td>A5</td>\n",
       "      <td>4716 AMBOY ROAD</td>\n",
       "      <td>NaN</td>\n",
       "      <td>...</td>\n",
       "      <td>1</td>\n",
       "      <td>0</td>\n",
       "      <td>1</td>\n",
       "      <td>1871</td>\n",
       "      <td>910</td>\n",
       "      <td>2002</td>\n",
       "      <td>1</td>\n",
       "      <td>A5</td>\n",
       "      <td>0</td>\n",
       "      <td>2019-07-10 00:00:00</td>\n",
       "    </tr>\n",
       "  </tbody>\n",
       "</table>\n",
       "<p>5 rows × 21 columns</p>\n",
       "</div>"
      ],
      "text/plain": [
       "  Staten Island Rolling Sales File.  All Sales From April 2019 - March 2020  \\\n",
       "0  For sales prior to the Final, Neighborhood Nam...                          \n",
       "1  Building Class Category is based on Building C...                          \n",
       "2  Note: Condominium and cooperative sales are on...                          \n",
       "3                                            BOROUGH                          \n",
       "4                                                  5                          \n",
       "\n",
       "     Unnamed: 1               Unnamed: 2            Unnamed: 3 Unnamed: 4  \\\n",
       "0           NaN                      NaN                   NaN        NaN   \n",
       "1           NaN                      NaN                   NaN        NaN   \n",
       "2           NaN                      NaN                   NaN        NaN   \n",
       "3  NEIGHBORHOOD  BUILDING CLASS CATEGORY  TAX CLASS AT PRESENT      BLOCK   \n",
       "4      ANNADALE  01 ONE FAMILY DWELLINGS                     1       5391   \n",
       "\n",
       "  Unnamed: 5 Unnamed: 6                 Unnamed: 7       Unnamed: 8  \\\n",
       "0        NaN        NaN                        NaN              NaN   \n",
       "1        NaN        NaN                        NaN              NaN   \n",
       "2        NaN        NaN                        NaN              NaN   \n",
       "3        LOT  EASE-MENT  BUILDING CLASS AT PRESENT          ADDRESS   \n",
       "4         13        NaN                         A5  4716 AMBOY ROAD   \n",
       "\n",
       "         Unnamed: 9  ...        Unnamed: 11       Unnamed: 12  Unnamed: 13  \\\n",
       "0               NaN  ...                NaN               NaN          NaN   \n",
       "1               NaN  ...                NaN               NaN          NaN   \n",
       "2               NaN  ...                NaN               NaN          NaN   \n",
       "3  APARTMENT NUMBER  ...  RESIDENTIAL UNITS  COMMERCIAL UNITS  TOTAL UNITS   \n",
       "4               NaN  ...                  1                 0            1   \n",
       "\n",
       "        Unnamed: 14        Unnamed: 15 Unnamed: 16                Unnamed: 17  \\\n",
       "0               NaN                NaN         NaN                        NaN   \n",
       "1               NaN                NaN         NaN                        NaN   \n",
       "2               NaN                NaN         NaN                        NaN   \n",
       "3  LAND SQUARE FEET  GROSS SQUARE FEET  YEAR BUILT  TAX CLASS AT TIME OF SALE   \n",
       "4              1871                910        2002                          1   \n",
       "\n",
       "                      Unnamed: 18 PTS Sales as of 04/15/2020  \\\n",
       "0                             NaN                        NaN   \n",
       "1                             NaN                        NaN   \n",
       "2                             NaN                        NaN   \n",
       "3  BUILDING CLASS AT TIME OF SALE                 SALE PRICE   \n",
       "4                              A5                          0   \n",
       "\n",
       "           Unnamed: 20  \n",
       "0                  NaN  \n",
       "1                  NaN  \n",
       "2                  NaN  \n",
       "3            SALE DATE  \n",
       "4  2019-07-10 00:00:00  \n",
       "\n",
       "[5 rows x 21 columns]"
      ]
     },
     "execution_count": 81,
     "metadata": {},
     "output_type": "execute_result"
    }
   ],
   "source": [
    "df.head()"
   ]
  },
  {
   "cell_type": "markdown",
   "metadata": {},
   "source": [
    "#### What's wrong here? "
   ]
  },
  {
   "cell_type": "markdown",
   "metadata": {},
   "source": [
    "#### Let's look the file in Excel \n",
    "\n",
    "![https://raw.githubusercontent.com/pratt-savi-810/images/master/rolling_sales_head.png](https://raw.githubusercontent.com/pratt-savi-810/images/master/rolling_sales_head.png)"
   ]
  },
  {
   "cell_type": "markdown",
   "metadata": {},
   "source": [
    "#### Let's specify the header row with the `header` argument in `pd.read_excel()`\n",
    "\n",
    "Remember, Python uses 0 index, Excel uses 1 for first row. "
   ]
  },
  {
   "cell_type": "code",
   "execution_count": 90,
   "metadata": {},
   "outputs": [],
   "source": [
    "df = pd.read_excel('data/rollingsales_statenisland.xls', header=[4])"
   ]
  },
  {
   "cell_type": "code",
   "execution_count": 92,
   "metadata": {},
   "outputs": [
    {
     "data": {
      "text/html": [
       "<div>\n",
       "<style scoped>\n",
       "    .dataframe tbody tr th:only-of-type {\n",
       "        vertical-align: middle;\n",
       "    }\n",
       "\n",
       "    .dataframe tbody tr th {\n",
       "        vertical-align: top;\n",
       "    }\n",
       "\n",
       "    .dataframe thead th {\n",
       "        text-align: right;\n",
       "    }\n",
       "</style>\n",
       "<table border=\"1\" class=\"dataframe\">\n",
       "  <thead>\n",
       "    <tr style=\"text-align: right;\">\n",
       "      <th></th>\n",
       "      <th>BOROUGH</th>\n",
       "      <th>NEIGHBORHOOD</th>\n",
       "      <th>BUILDING CLASS CATEGORY</th>\n",
       "      <th>TAX CLASS AT PRESENT</th>\n",
       "      <th>BLOCK</th>\n",
       "      <th>LOT</th>\n",
       "      <th>EASE-MENT</th>\n",
       "      <th>BUILDING CLASS AT PRESENT</th>\n",
       "      <th>ADDRESS</th>\n",
       "      <th>APARTMENT NUMBER</th>\n",
       "      <th>...</th>\n",
       "      <th>RESIDENTIAL UNITS</th>\n",
       "      <th>COMMERCIAL UNITS</th>\n",
       "      <th>TOTAL UNITS</th>\n",
       "      <th>LAND SQUARE FEET</th>\n",
       "      <th>GROSS SQUARE FEET</th>\n",
       "      <th>YEAR BUILT</th>\n",
       "      <th>TAX CLASS AT TIME OF SALE</th>\n",
       "      <th>BUILDING CLASS AT TIME OF SALE</th>\n",
       "      <th>SALE PRICE</th>\n",
       "      <th>SALE DATE</th>\n",
       "    </tr>\n",
       "  </thead>\n",
       "  <tbody>\n",
       "    <tr>\n",
       "      <th>0</th>\n",
       "      <td>5</td>\n",
       "      <td>ANNADALE</td>\n",
       "      <td>01 ONE FAMILY DWELLINGS</td>\n",
       "      <td>1</td>\n",
       "      <td>5391</td>\n",
       "      <td>13</td>\n",
       "      <td>NaN</td>\n",
       "      <td>A5</td>\n",
       "      <td>4716 AMBOY ROAD</td>\n",
       "      <td>NaN</td>\n",
       "      <td>...</td>\n",
       "      <td>1.0</td>\n",
       "      <td>0.0</td>\n",
       "      <td>1.0</td>\n",
       "      <td>1871.0</td>\n",
       "      <td>910.0</td>\n",
       "      <td>2002.0</td>\n",
       "      <td>1</td>\n",
       "      <td>A5</td>\n",
       "      <td>0</td>\n",
       "      <td>2019-07-10</td>\n",
       "    </tr>\n",
       "    <tr>\n",
       "      <th>1</th>\n",
       "      <td>5</td>\n",
       "      <td>ANNADALE</td>\n",
       "      <td>01 ONE FAMILY DWELLINGS</td>\n",
       "      <td>1</td>\n",
       "      <td>5395</td>\n",
       "      <td>23</td>\n",
       "      <td>NaN</td>\n",
       "      <td>A1</td>\n",
       "      <td>525 SYCAMORE STREET</td>\n",
       "      <td>NaN</td>\n",
       "      <td>...</td>\n",
       "      <td>1.0</td>\n",
       "      <td>0.0</td>\n",
       "      <td>1.0</td>\n",
       "      <td>10000.0</td>\n",
       "      <td>2848.0</td>\n",
       "      <td>1980.0</td>\n",
       "      <td>1</td>\n",
       "      <td>A1</td>\n",
       "      <td>775000</td>\n",
       "      <td>2019-12-13</td>\n",
       "    </tr>\n",
       "    <tr>\n",
       "      <th>2</th>\n",
       "      <td>5</td>\n",
       "      <td>ANNADALE</td>\n",
       "      <td>01 ONE FAMILY DWELLINGS</td>\n",
       "      <td>1</td>\n",
       "      <td>5398</td>\n",
       "      <td>20</td>\n",
       "      <td>NaN</td>\n",
       "      <td>A1</td>\n",
       "      <td>1468 ARDEN AVENUE</td>\n",
       "      <td>NaN</td>\n",
       "      <td>...</td>\n",
       "      <td>1.0</td>\n",
       "      <td>0.0</td>\n",
       "      <td>1.0</td>\n",
       "      <td>5000.0</td>\n",
       "      <td>2200.0</td>\n",
       "      <td>1940.0</td>\n",
       "      <td>1</td>\n",
       "      <td>A1</td>\n",
       "      <td>685000</td>\n",
       "      <td>2019-04-15</td>\n",
       "    </tr>\n",
       "    <tr>\n",
       "      <th>3</th>\n",
       "      <td>5</td>\n",
       "      <td>ANNADALE</td>\n",
       "      <td>01 ONE FAMILY DWELLINGS</td>\n",
       "      <td>1</td>\n",
       "      <td>5399</td>\n",
       "      <td>33</td>\n",
       "      <td>NaN</td>\n",
       "      <td>A2</td>\n",
       "      <td>247 KOCH BOULEVARD</td>\n",
       "      <td>NaN</td>\n",
       "      <td>...</td>\n",
       "      <td>1.0</td>\n",
       "      <td>0.0</td>\n",
       "      <td>1.0</td>\n",
       "      <td>7035.0</td>\n",
       "      <td>1528.0</td>\n",
       "      <td>1970.0</td>\n",
       "      <td>1</td>\n",
       "      <td>A2</td>\n",
       "      <td>0</td>\n",
       "      <td>2019-08-07</td>\n",
       "    </tr>\n",
       "    <tr>\n",
       "      <th>4</th>\n",
       "      <td>5</td>\n",
       "      <td>ANNADALE</td>\n",
       "      <td>01 ONE FAMILY DWELLINGS</td>\n",
       "      <td>1</td>\n",
       "      <td>5407</td>\n",
       "      <td>39</td>\n",
       "      <td>NaN</td>\n",
       "      <td>B2</td>\n",
       "      <td>193 BATHGATE STREET</td>\n",
       "      <td>NaN</td>\n",
       "      <td>...</td>\n",
       "      <td>2.0</td>\n",
       "      <td>0.0</td>\n",
       "      <td>2.0</td>\n",
       "      <td>5000.0</td>\n",
       "      <td>2800.0</td>\n",
       "      <td>2018.0</td>\n",
       "      <td>1</td>\n",
       "      <td>A2</td>\n",
       "      <td>1221900</td>\n",
       "      <td>2019-05-09</td>\n",
       "    </tr>\n",
       "  </tbody>\n",
       "</table>\n",
       "<p>5 rows × 21 columns</p>\n",
       "</div>"
      ],
      "text/plain": [
       "   BOROUGH NEIGHBORHOOD  BUILDING CLASS CATEGORY TAX CLASS AT PRESENT  BLOCK  \\\n",
       "0        5     ANNADALE  01 ONE FAMILY DWELLINGS                    1   5391   \n",
       "1        5     ANNADALE  01 ONE FAMILY DWELLINGS                    1   5395   \n",
       "2        5     ANNADALE  01 ONE FAMILY DWELLINGS                    1   5398   \n",
       "3        5     ANNADALE  01 ONE FAMILY DWELLINGS                    1   5399   \n",
       "4        5     ANNADALE  01 ONE FAMILY DWELLINGS                    1   5407   \n",
       "\n",
       "   LOT  EASE-MENT BUILDING CLASS AT PRESENT              ADDRESS  \\\n",
       "0   13        NaN                        A5      4716 AMBOY ROAD   \n",
       "1   23        NaN                        A1  525 SYCAMORE STREET   \n",
       "2   20        NaN                        A1    1468 ARDEN AVENUE   \n",
       "3   33        NaN                        A2   247 KOCH BOULEVARD   \n",
       "4   39        NaN                        B2  193 BATHGATE STREET   \n",
       "\n",
       "  APARTMENT NUMBER  ...  RESIDENTIAL UNITS  COMMERCIAL UNITS  TOTAL UNITS  \\\n",
       "0              NaN  ...                1.0               0.0          1.0   \n",
       "1              NaN  ...                1.0               0.0          1.0   \n",
       "2              NaN  ...                1.0               0.0          1.0   \n",
       "3              NaN  ...                1.0               0.0          1.0   \n",
       "4              NaN  ...                2.0               0.0          2.0   \n",
       "\n",
       "   LAND SQUARE FEET  GROSS SQUARE FEET  YEAR BUILT  TAX CLASS AT TIME OF SALE  \\\n",
       "0            1871.0              910.0      2002.0                          1   \n",
       "1           10000.0             2848.0      1980.0                          1   \n",
       "2            5000.0             2200.0      1940.0                          1   \n",
       "3            7035.0             1528.0      1970.0                          1   \n",
       "4            5000.0             2800.0      2018.0                          1   \n",
       "\n",
       "   BUILDING CLASS AT TIME OF SALE SALE PRICE  SALE DATE  \n",
       "0                              A5          0 2019-07-10  \n",
       "1                              A1     775000 2019-12-13  \n",
       "2                              A1     685000 2019-04-15  \n",
       "3                              A2          0 2019-08-07  \n",
       "4                              A2    1221900 2019-05-09  \n",
       "\n",
       "[5 rows x 21 columns]"
      ]
     },
     "execution_count": 92,
     "metadata": {},
     "output_type": "execute_result"
    }
   ],
   "source": [
    "df.head()"
   ]
  },
  {
   "cell_type": "markdown",
   "metadata": {},
   "source": [
    "# Let's write a function to Extract the Fees for Santa Monica, CA Services over 2014 to 2022"
   ]
  },
  {
   "cell_type": "markdown",
   "metadata": {},
   "source": [
    "#### Let's look at the fees and rate scheduel for different services in Santa Monica over 2014 to 2022.\n",
    "\n",
    "\n",
    "https://data.smgov.net/browse?q=%22Fees%20and%20Rates%22%20Finance&sortBy=alpha&utf8=%E2%9C%93\n",
    "![https://data.smgov.net/browse?q=%22Fees%20and%20Rates%22%20Finance&sortBy=alpha&utf8=%E2%9C%93](samo_fees_and_Rates_Screenshot.png)\n"
   ]
  },
  {
   "cell_type": "markdown",
   "metadata": {},
   "source": [
    "Click through and download `csv`s for each of these years and collect them into a single folder. \n",
    "(On Dolphin in KDE Linux it looks like this)\n",
    "\n",
    "![](downloaded_samo_fees_screenshot.png)\n",
    "\n",
    "Open a few of these files and confirm they've all got the same headder"
   ]
  },
  {
   "cell_type": "markdown",
   "metadata": {},
   "source": [
    "#### Optional Discuss Paths and File Systems?\n"
   ]
  },
  {
   "cell_type": "code",
   "execution_count": 54,
   "metadata": {},
   "outputs": [
    {
     "data": {
      "text/plain": [
       "PosixPath('/home/javier/learn/gis/py/pratt/pratt-savi-810-2020-03-lesson_11/completed/samo_fees')"
      ]
     },
     "execution_count": 54,
     "metadata": {},
     "output_type": "execute_result"
    }
   ],
   "source": [
    "from pathlib import Path\n",
    "# https://docs.python.org/3/library/pathlib.html\n",
    "\n",
    "samo_fees_base_path = Path('./samo_fees')\n",
    "samo_fees_base_path.resolve()"
   ]
  },
  {
   "cell_type": "code",
   "execution_count": 55,
   "metadata": {},
   "outputs": [
    {
     "data": {
      "text/plain": [
       "['samo_fees/Fees_and_Rates_2014-15.csv',\n",
       " 'samo_fees/Fees_and_Rates_2015-16.csv',\n",
       " 'samo_fees/Fees_and_Rates_2016-17.csv',\n",
       " 'samo_fees/Fees_and_Rates_2017-18.csv',\n",
       " 'samo_fees/Fees_and_Rates_2018-19.csv',\n",
       " 'samo_fees/Fees_and_Rates_2019-20.csv',\n",
       " 'samo_fees/Fees_and_Rates_2021-2022.csv']"
      ]
     },
     "execution_count": 55,
     "metadata": {},
     "output_type": "execute_result"
    }
   ],
   "source": [
    "yearly_fee_rates_list = sorted(glob.glob('samo_fees/*'))\n",
    "yearly_fee_rates_list"
   ]
  },
  {
   "cell_type": "code",
   "execution_count": 116,
   "metadata": {},
   "outputs": [],
   "source": [
    "years_list = [2014,2015,2016,2017,2018,2019,2020,2021]"
   ]
  },
  {
   "cell_type": "code",
   "execution_count": 117,
   "metadata": {},
   "outputs": [
    {
     "data": {
      "text/plain": [
       "[('samo_fees/Fees_and_Rates_2014-15.csv', 2014),\n",
       " ('samo_fees/Fees_and_Rates_2015-16.csv', 2015),\n",
       " ('samo_fees/Fees_and_Rates_2016-17.csv', 2016),\n",
       " ('samo_fees/Fees_and_Rates_2017-18.csv', 2017),\n",
       " ('samo_fees/Fees_and_Rates_2018-19.csv', 2018),\n",
       " ('samo_fees/Fees_and_Rates_2019-20.csv', 2019),\n",
       " ('samo_fees/Fees_and_Rates_2021-2022.csv', 2020)]"
      ]
     },
     "execution_count": 117,
     "metadata": {},
     "output_type": "execute_result"
    }
   ],
   "source": [
    "list(zip(yearly_fee_rates_list, years_list))"
   ]
  },
  {
   "cell_type": "code",
   "execution_count": 118,
   "metadata": {},
   "outputs": [],
   "source": [
    "def combine_years(list_of_files, year_list):\n",
    "    total_rows = 0\n",
    "    pdf_list = []\n",
    "    \n",
    "    for n, f in enumerate(list_of_files):\n",
    "        print(year_list[n], f)\n",
    "        pdf = pd.read_csv(f)\n",
    "        pdf['year'] = year_list[n]\n",
    "        num_rows = pdf.shape[0]\n",
    "        print('    ', num_rows,'\\n')\n",
    "        total_rows += num_rows\n",
    "        pdf_list.append(pdf)\n",
    "        \n",
    "    pdf_all = pd.concat(pdf_list)\n",
    "    \n",
    "    print(f'total rows: {total_rows}')\n",
    "    return pdf_all"
   ]
  },
  {
   "cell_type": "code",
   "execution_count": 119,
   "metadata": {},
   "outputs": [
    {
     "name": "stdout",
     "output_type": "stream",
     "text": [
      "2014 samo_fees/Fees_and_Rates_2014-15.csv\n",
      "     1608 \n",
      "\n",
      "2015 samo_fees/Fees_and_Rates_2015-16.csv\n",
      "     1651 \n",
      "\n",
      "2016 samo_fees/Fees_and_Rates_2016-17.csv\n",
      "     1695 \n",
      "\n",
      "2017 samo_fees/Fees_and_Rates_2017-18.csv\n",
      "     1706 \n",
      "\n",
      "2018 samo_fees/Fees_and_Rates_2018-19.csv\n",
      "     1848 \n",
      "\n",
      "2019 samo_fees/Fees_and_Rates_2019-20.csv\n",
      "     1858 \n",
      "\n",
      "2020 samo_fees/Fees_and_Rates_2021-2022.csv\n",
      "     1782 \n",
      "\n",
      "total rows: 12148\n"
     ]
    }
   ],
   "source": [
    "fees_all_years_pdf = combine_years(yearly_fee_rates_list, years_list)"
   ]
  },
  {
   "cell_type": "code",
   "execution_count": 132,
   "metadata": {},
   "outputs": [
    {
     "data": {
      "text/plain": [
       "(12148, 23)"
      ]
     },
     "execution_count": 132,
     "metadata": {},
     "output_type": "execute_result"
    }
   ],
   "source": [
    "fees_all_years_pdf.shape"
   ]
  },
  {
   "cell_type": "code",
   "execution_count": 163,
   "metadata": {},
   "outputs": [
    {
     "data": {
      "text/html": [
       "<div>\n",
       "<style scoped>\n",
       "    .dataframe tbody tr th:only-of-type {\n",
       "        vertical-align: middle;\n",
       "    }\n",
       "\n",
       "    .dataframe tbody tr th {\n",
       "        vertical-align: top;\n",
       "    }\n",
       "\n",
       "    .dataframe thead th {\n",
       "        text-align: right;\n",
       "    }\n",
       "</style>\n",
       "<table border=\"1\" class=\"dataframe\">\n",
       "  <thead>\n",
       "    <tr style=\"text-align: right;\">\n",
       "      <th></th>\n",
       "      <th>Department</th>\n",
       "      <th>Division</th>\n",
       "      <th>Category</th>\n",
       "      <th>Activity</th>\n",
       "      <th>Keywords</th>\n",
       "      <th>Fee Name / Description</th>\n",
       "      <th>Fee</th>\n",
       "      <th>Fee - Other</th>\n",
       "      <th>Unit</th>\n",
       "      <th>Additional Fee</th>\n",
       "      <th>...</th>\n",
       "      <th>Comments</th>\n",
       "      <th>External Link</th>\n",
       "      <th>Notes</th>\n",
       "      <th>year</th>\n",
       "      <th>Fee Name/Description</th>\n",
       "      <th>Fee  -  Other</th>\n",
       "      <th>External Link(s)</th>\n",
       "      <th>Additional Fee</th>\n",
       "      <th>FEE</th>\n",
       "      <th>fee_name</th>\n",
       "    </tr>\n",
       "  </thead>\n",
       "  <tbody>\n",
       "    <tr>\n",
       "      <th>0</th>\n",
       "      <td>Community and Cultural Services</td>\n",
       "      <td>Cultural Affairs</td>\n",
       "      <td>Parking</td>\n",
       "      <td>NaN</td>\n",
       "      <td>Parking, Beach, Beach House, Annenberg Beach H...</td>\n",
       "      <td>Annenberg Community Beach House Parking</td>\n",
       "      <td>12.0</td>\n",
       "      <td>NaN</td>\n",
       "      <td>per day</td>\n",
       "      <td>NaN</td>\n",
       "      <td>...</td>\n",
       "      <td>Parking ranges from $8-12, depending on season...</td>\n",
       "      <td>Additional information is available at: \\n&lt;a t...</td>\n",
       "      <td>NOTESBHP1 (http://www.smgov.net/Departments/Fi...</td>\n",
       "      <td>2014</td>\n",
       "      <td>NaN</td>\n",
       "      <td>NaN</td>\n",
       "      <td>NaN</td>\n",
       "      <td>NaN</td>\n",
       "      <td>NaN</td>\n",
       "      <td>Annenberg Community Beach House Parking</td>\n",
       "    </tr>\n",
       "    <tr>\n",
       "      <th>1</th>\n",
       "      <td>Community and Cultural Services</td>\n",
       "      <td>Cultural Affairs</td>\n",
       "      <td>Parking</td>\n",
       "      <td>NaN</td>\n",
       "      <td>Parking, Beach, Beach House, Annenberg Beach H...</td>\n",
       "      <td>Annenberg Community Beach House Parking</td>\n",
       "      <td>3.0</td>\n",
       "      <td>NaN</td>\n",
       "      <td>per hour</td>\n",
       "      <td>NaN</td>\n",
       "      <td>...</td>\n",
       "      <td>Per Resolution No. 10816 (CCS), this fee is no...</td>\n",
       "      <td>Additional information is available at: \\n&lt;a t...</td>\n",
       "      <td>NOTESBHP1 (http://www.smgov.net/Departments/Fi...</td>\n",
       "      <td>2014</td>\n",
       "      <td>NaN</td>\n",
       "      <td>NaN</td>\n",
       "      <td>NaN</td>\n",
       "      <td>NaN</td>\n",
       "      <td>NaN</td>\n",
       "      <td>Annenberg Community Beach House Parking</td>\n",
       "    </tr>\n",
       "    <tr>\n",
       "      <th>2</th>\n",
       "      <td>Community and Cultural Services</td>\n",
       "      <td>Cultural Affairs</td>\n",
       "      <td>Aquatics/Swimming</td>\n",
       "      <td>NaN</td>\n",
       "      <td>pool, swim, swimming, Beach House, beach, Anne...</td>\n",
       "      <td>Annenberg Community Beach House, Pool Day Pass...</td>\n",
       "      <td>10.0</td>\n",
       "      <td>NaN</td>\n",
       "      <td>NaN</td>\n",
       "      <td>NaN</td>\n",
       "      <td>...</td>\n",
       "      <td>Per Resolution No. 10816 (CCS), this fee is no...</td>\n",
       "      <td>Additional information is available at: \\n&lt;a t...</td>\n",
       "      <td>NOTESBHP1 (http://www.smgov.net/Departments/Fi...</td>\n",
       "      <td>2014</td>\n",
       "      <td>NaN</td>\n",
       "      <td>NaN</td>\n",
       "      <td>NaN</td>\n",
       "      <td>NaN</td>\n",
       "      <td>NaN</td>\n",
       "      <td>Annenberg Community Beach House, Pool Day Pass...</td>\n",
       "    </tr>\n",
       "    <tr>\n",
       "      <th>3</th>\n",
       "      <td>Community and Cultural Services</td>\n",
       "      <td>Cultural Affairs</td>\n",
       "      <td>Aquatics/Swimming</td>\n",
       "      <td>NaN</td>\n",
       "      <td>pool, swim, swimming, Beach House, beach, Anne...</td>\n",
       "      <td>Annenberg Community Beach House, Pool Day Pass...</td>\n",
       "      <td>4.0</td>\n",
       "      <td>NaN</td>\n",
       "      <td>NaN</td>\n",
       "      <td>NaN</td>\n",
       "      <td>...</td>\n",
       "      <td>Per Resolution No. 10816 (CCS), this fee is no...</td>\n",
       "      <td>Additional information is available at: \\n&lt;a t...</td>\n",
       "      <td>NOTESBHP1 (http://www.smgov.net/Departments/Fi...</td>\n",
       "      <td>2014</td>\n",
       "      <td>NaN</td>\n",
       "      <td>NaN</td>\n",
       "      <td>NaN</td>\n",
       "      <td>NaN</td>\n",
       "      <td>NaN</td>\n",
       "      <td>Annenberg Community Beach House, Pool Day Pass...</td>\n",
       "    </tr>\n",
       "    <tr>\n",
       "      <th>4</th>\n",
       "      <td>Community and Cultural Services</td>\n",
       "      <td>Cultural Affairs</td>\n",
       "      <td>Aquatics/Swimming</td>\n",
       "      <td>NaN</td>\n",
       "      <td>pool, swim, swimming, Beach House, beach, Anne...</td>\n",
       "      <td>Annenberg Community Beach House, Pool Day Pass...</td>\n",
       "      <td>5.0</td>\n",
       "      <td>NaN</td>\n",
       "      <td>NaN</td>\n",
       "      <td>NaN</td>\n",
       "      <td>...</td>\n",
       "      <td>Per Resolution No. 10816 (CCS), this fee is no...</td>\n",
       "      <td>Additional information is available at: \\n&lt;a t...</td>\n",
       "      <td>NOTESBHP1 (http://www.smgov.net/Departments/Fi...</td>\n",
       "      <td>2014</td>\n",
       "      <td>NaN</td>\n",
       "      <td>NaN</td>\n",
       "      <td>NaN</td>\n",
       "      <td>NaN</td>\n",
       "      <td>NaN</td>\n",
       "      <td>Annenberg Community Beach House, Pool Day Pass...</td>\n",
       "    </tr>\n",
       "  </tbody>\n",
       "</table>\n",
       "<p>5 rows × 23 columns</p>\n",
       "</div>"
      ],
      "text/plain": [
       "                        Department          Division           Category  \\\n",
       "0  Community and Cultural Services  Cultural Affairs           Parking    \n",
       "1  Community and Cultural Services  Cultural Affairs           Parking    \n",
       "2  Community and Cultural Services  Cultural Affairs  Aquatics/Swimming   \n",
       "3  Community and Cultural Services  Cultural Affairs  Aquatics/Swimming   \n",
       "4  Community and Cultural Services  Cultural Affairs  Aquatics/Swimming   \n",
       "\n",
       "  Activity                                           Keywords  \\\n",
       "0      NaN  Parking, Beach, Beach House, Annenberg Beach H...   \n",
       "1      NaN  Parking, Beach, Beach House, Annenberg Beach H...   \n",
       "2      NaN  pool, swim, swimming, Beach House, beach, Anne...   \n",
       "3      NaN  pool, swim, swimming, Beach House, beach, Anne...   \n",
       "4      NaN  pool, swim, swimming, Beach House, beach, Anne...   \n",
       "\n",
       "                              Fee Name / Description   Fee Fee - Other  \\\n",
       "0           Annenberg Community Beach House Parking   12.0         NaN   \n",
       "1           Annenberg Community Beach House Parking    3.0         NaN   \n",
       "2  Annenberg Community Beach House, Pool Day Pass...  10.0         NaN   \n",
       "3  Annenberg Community Beach House, Pool Day Pass...   4.0         NaN   \n",
       "4  Annenberg Community Beach House, Pool Day Pass...   5.0         NaN   \n",
       "\n",
       "       Unit  Additional Fee   ...  \\\n",
       "0   per day              NaN  ...   \n",
       "1  per hour              NaN  ...   \n",
       "2       NaN              NaN  ...   \n",
       "3       NaN              NaN  ...   \n",
       "4       NaN              NaN  ...   \n",
       "\n",
       "                                            Comments  \\\n",
       "0  Parking ranges from $8-12, depending on season...   \n",
       "1  Per Resolution No. 10816 (CCS), this fee is no...   \n",
       "2  Per Resolution No. 10816 (CCS), this fee is no...   \n",
       "3  Per Resolution No. 10816 (CCS), this fee is no...   \n",
       "4  Per Resolution No. 10816 (CCS), this fee is no...   \n",
       "\n",
       "                                       External Link  \\\n",
       "0  Additional information is available at: \\n<a t...   \n",
       "1  Additional information is available at: \\n<a t...   \n",
       "2  Additional information is available at: \\n<a t...   \n",
       "3  Additional information is available at: \\n<a t...   \n",
       "4  Additional information is available at: \\n<a t...   \n",
       "\n",
       "                                               Notes  year  \\\n",
       "0  NOTESBHP1 (http://www.smgov.net/Departments/Fi...  2014   \n",
       "1  NOTESBHP1 (http://www.smgov.net/Departments/Fi...  2014   \n",
       "2  NOTESBHP1 (http://www.smgov.net/Departments/Fi...  2014   \n",
       "3  NOTESBHP1 (http://www.smgov.net/Departments/Fi...  2014   \n",
       "4  NOTESBHP1 (http://www.smgov.net/Departments/Fi...  2014   \n",
       "\n",
       "  Fee Name/Description Fee  -  Other  External Link(s) Additional Fee FEE  \\\n",
       "0                  NaN           NaN               NaN            NaN NaN   \n",
       "1                  NaN           NaN               NaN            NaN NaN   \n",
       "2                  NaN           NaN               NaN            NaN NaN   \n",
       "3                  NaN           NaN               NaN            NaN NaN   \n",
       "4                  NaN           NaN               NaN            NaN NaN   \n",
       "\n",
       "                                            fee_name  \n",
       "0           Annenberg Community Beach House Parking   \n",
       "1           Annenberg Community Beach House Parking   \n",
       "2  Annenberg Community Beach House, Pool Day Pass...  \n",
       "3  Annenberg Community Beach House, Pool Day Pass...  \n",
       "4  Annenberg Community Beach House, Pool Day Pass...  \n",
       "\n",
       "[5 rows x 23 columns]"
      ]
     },
     "execution_count": 163,
     "metadata": {},
     "output_type": "execute_result"
    }
   ],
   "source": [
    "fees_all_years_pdf.head()"
   ]
  },
  {
   "cell_type": "code",
   "execution_count": null,
   "metadata": {},
   "outputs": [
    {
     "data": {
      "text/plain": [
       "array(['Cultural Affairs', 'Code Compliance', 'Building and Safety',\n",
       "       'Cemetery', 'Water', 'Civil Engineering', 'Community Recreation',\n",
       "       'City Planning/Development Review',\n",
       "       'Transportation Planning and Engineering',\n",
       "       'Community and Cultural Services',\n",
       "       'Transportation Engineering and Management',\n",
       "       'Resource Recovery & Recycling', 'Street Services', 'Airport',\n",
       "       'Administration', 'Public Landscape', 'Fire', 'Police',\n",
       "       'Animal Control Section', 'Records and Election Services',\n",
       "       'Finance', 'Office of Sustainability and the Environment',\n",
       "       'Library', 'Human Services', 'Pier Management', 'Big Blue Bus',\n",
       "       'Strategic and Transportation Planning',\n",
       "       'Mobility and Traffic Management', 'City TV', 'Parking Operations',\n",
       "       'Cultural Affairs - Beach House', nan,\n",
       "       'City Plannning Planning/Development Review', 'City Planning',\n",
       "       'Mobility', 'City Planning Planning/Development Review'],\n",
       "      dtype=object)"
      ]
     },
     "execution_count": 121,
     "metadata": {},
     "output_type": "execute_result"
    }
   ],
   "source": [
    "fees_all_years_pdf['Division'].unique()"
   ]
  },
  {
   "cell_type": "code",
   "execution_count": 123,
   "metadata": {},
   "outputs": [
    {
     "data": {
      "text/plain": [
       "Index(['Department', 'Division', 'Category', 'Activity', 'Keywords',\n",
       "       'Fee Name / Description', 'Fee', 'Fee - Other', 'Unit',\n",
       "       'Additional Fee ', 'Additional Fee Unit', 'Deposit', 'Rate Tier',\n",
       "       'Comments', 'External Link', 'Notes', 'year', 'Fee Name/Description',\n",
       "       'Fee  -  Other', 'External Link(s)', 'Additional Fee', 'FEE'],\n",
       "      dtype='object')"
      ]
     },
     "execution_count": 123,
     "metadata": {},
     "output_type": "execute_result"
    }
   ],
   "source": [
    "fees_all_years_pdf.columns.unique()"
   ]
  },
  {
   "cell_type": "markdown",
   "metadata": {},
   "source": [
    "Coalesce the columns whose name changed\n",
    "https://pandas.pydata.org/docs/reference/api/pandas.DataFrame.combine_first.html\n",
    "\n",
    "And drop the old columns\n",
    "https://pandas.pydata.org/docs/reference/api/pandas.DataFrame.drop.html"
   ]
  },
  {
   "cell_type": "code",
   "execution_count": 134,
   "metadata": {},
   "outputs": [
    {
     "data": {
      "text/html": [
       "<div>\n",
       "<style scoped>\n",
       "    .dataframe tbody tr th:only-of-type {\n",
       "        vertical-align: middle;\n",
       "    }\n",
       "\n",
       "    .dataframe tbody tr th {\n",
       "        vertical-align: top;\n",
       "    }\n",
       "\n",
       "    .dataframe thead th {\n",
       "        text-align: right;\n",
       "    }\n",
       "</style>\n",
       "<table border=\"1\" class=\"dataframe\">\n",
       "  <thead>\n",
       "    <tr style=\"text-align: right;\">\n",
       "      <th></th>\n",
       "      <th>Department</th>\n",
       "      <th>Division</th>\n",
       "      <th>Category</th>\n",
       "      <th>Activity</th>\n",
       "      <th>Keywords</th>\n",
       "      <th>Fee</th>\n",
       "      <th>Fee - Other</th>\n",
       "      <th>Unit</th>\n",
       "      <th>Additional Fee</th>\n",
       "      <th>Additional Fee Unit</th>\n",
       "      <th>...</th>\n",
       "      <th>Rate Tier</th>\n",
       "      <th>Comments</th>\n",
       "      <th>External Link</th>\n",
       "      <th>Notes</th>\n",
       "      <th>year</th>\n",
       "      <th>Fee  -  Other</th>\n",
       "      <th>External Link(s)</th>\n",
       "      <th>Additional Fee</th>\n",
       "      <th>FEE</th>\n",
       "      <th>fee_name</th>\n",
       "    </tr>\n",
       "  </thead>\n",
       "  <tbody>\n",
       "    <tr>\n",
       "      <th>0</th>\n",
       "      <td>Community and Cultural Services</td>\n",
       "      <td>Cultural Affairs</td>\n",
       "      <td>Parking</td>\n",
       "      <td>NaN</td>\n",
       "      <td>Parking, Beach, Beach House, Annenberg Beach H...</td>\n",
       "      <td>12.0</td>\n",
       "      <td>NaN</td>\n",
       "      <td>per day</td>\n",
       "      <td>NaN</td>\n",
       "      <td>NaN</td>\n",
       "      <td>...</td>\n",
       "      <td>NaN</td>\n",
       "      <td>Parking ranges from $8-12, depending on season...</td>\n",
       "      <td>Additional information is available at: \\n&lt;a t...</td>\n",
       "      <td>NOTESBHP1 (http://www.smgov.net/Departments/Fi...</td>\n",
       "      <td>2014</td>\n",
       "      <td>NaN</td>\n",
       "      <td>NaN</td>\n",
       "      <td>NaN</td>\n",
       "      <td>NaN</td>\n",
       "      <td>Annenberg Community Beach House Parking</td>\n",
       "    </tr>\n",
       "    <tr>\n",
       "      <th>1</th>\n",
       "      <td>Community and Cultural Services</td>\n",
       "      <td>Cultural Affairs</td>\n",
       "      <td>Parking</td>\n",
       "      <td>NaN</td>\n",
       "      <td>Parking, Beach, Beach House, Annenberg Beach H...</td>\n",
       "      <td>3.0</td>\n",
       "      <td>NaN</td>\n",
       "      <td>per hour</td>\n",
       "      <td>NaN</td>\n",
       "      <td>NaN</td>\n",
       "      <td>...</td>\n",
       "      <td>NaN</td>\n",
       "      <td>Per Resolution No. 10816 (CCS), this fee is no...</td>\n",
       "      <td>Additional information is available at: \\n&lt;a t...</td>\n",
       "      <td>NOTESBHP1 (http://www.smgov.net/Departments/Fi...</td>\n",
       "      <td>2014</td>\n",
       "      <td>NaN</td>\n",
       "      <td>NaN</td>\n",
       "      <td>NaN</td>\n",
       "      <td>NaN</td>\n",
       "      <td>Annenberg Community Beach House Parking</td>\n",
       "    </tr>\n",
       "    <tr>\n",
       "      <th>2</th>\n",
       "      <td>Community and Cultural Services</td>\n",
       "      <td>Cultural Affairs</td>\n",
       "      <td>Aquatics/Swimming</td>\n",
       "      <td>NaN</td>\n",
       "      <td>pool, swim, swimming, Beach House, beach, Anne...</td>\n",
       "      <td>10.0</td>\n",
       "      <td>NaN</td>\n",
       "      <td>NaN</td>\n",
       "      <td>NaN</td>\n",
       "      <td>NaN</td>\n",
       "      <td>...</td>\n",
       "      <td>NaN</td>\n",
       "      <td>Per Resolution No. 10816 (CCS), this fee is no...</td>\n",
       "      <td>Additional information is available at: \\n&lt;a t...</td>\n",
       "      <td>NOTESBHP1 (http://www.smgov.net/Departments/Fi...</td>\n",
       "      <td>2014</td>\n",
       "      <td>NaN</td>\n",
       "      <td>NaN</td>\n",
       "      <td>NaN</td>\n",
       "      <td>NaN</td>\n",
       "      <td>Annenberg Community Beach House, Pool Day Pass...</td>\n",
       "    </tr>\n",
       "    <tr>\n",
       "      <th>3</th>\n",
       "      <td>Community and Cultural Services</td>\n",
       "      <td>Cultural Affairs</td>\n",
       "      <td>Aquatics/Swimming</td>\n",
       "      <td>NaN</td>\n",
       "      <td>pool, swim, swimming, Beach House, beach, Anne...</td>\n",
       "      <td>4.0</td>\n",
       "      <td>NaN</td>\n",
       "      <td>NaN</td>\n",
       "      <td>NaN</td>\n",
       "      <td>NaN</td>\n",
       "      <td>...</td>\n",
       "      <td>NaN</td>\n",
       "      <td>Per Resolution No. 10816 (CCS), this fee is no...</td>\n",
       "      <td>Additional information is available at: \\n&lt;a t...</td>\n",
       "      <td>NOTESBHP1 (http://www.smgov.net/Departments/Fi...</td>\n",
       "      <td>2014</td>\n",
       "      <td>NaN</td>\n",
       "      <td>NaN</td>\n",
       "      <td>NaN</td>\n",
       "      <td>NaN</td>\n",
       "      <td>Annenberg Community Beach House, Pool Day Pass...</td>\n",
       "    </tr>\n",
       "    <tr>\n",
       "      <th>4</th>\n",
       "      <td>Community and Cultural Services</td>\n",
       "      <td>Cultural Affairs</td>\n",
       "      <td>Aquatics/Swimming</td>\n",
       "      <td>NaN</td>\n",
       "      <td>pool, swim, swimming, Beach House, beach, Anne...</td>\n",
       "      <td>5.0</td>\n",
       "      <td>NaN</td>\n",
       "      <td>NaN</td>\n",
       "      <td>NaN</td>\n",
       "      <td>NaN</td>\n",
       "      <td>...</td>\n",
       "      <td>NaN</td>\n",
       "      <td>Per Resolution No. 10816 (CCS), this fee is no...</td>\n",
       "      <td>Additional information is available at: \\n&lt;a t...</td>\n",
       "      <td>NOTESBHP1 (http://www.smgov.net/Departments/Fi...</td>\n",
       "      <td>2014</td>\n",
       "      <td>NaN</td>\n",
       "      <td>NaN</td>\n",
       "      <td>NaN</td>\n",
       "      <td>NaN</td>\n",
       "      <td>Annenberg Community Beach House, Pool Day Pass...</td>\n",
       "    </tr>\n",
       "  </tbody>\n",
       "</table>\n",
       "<p>5 rows × 21 columns</p>\n",
       "</div>"
      ],
      "text/plain": [
       "                        Department          Division           Category  \\\n",
       "0  Community and Cultural Services  Cultural Affairs           Parking    \n",
       "1  Community and Cultural Services  Cultural Affairs           Parking    \n",
       "2  Community and Cultural Services  Cultural Affairs  Aquatics/Swimming   \n",
       "3  Community and Cultural Services  Cultural Affairs  Aquatics/Swimming   \n",
       "4  Community and Cultural Services  Cultural Affairs  Aquatics/Swimming   \n",
       "\n",
       "  Activity                                           Keywords   Fee  \\\n",
       "0      NaN  Parking, Beach, Beach House, Annenberg Beach H...  12.0   \n",
       "1      NaN  Parking, Beach, Beach House, Annenberg Beach H...   3.0   \n",
       "2      NaN  pool, swim, swimming, Beach House, beach, Anne...  10.0   \n",
       "3      NaN  pool, swim, swimming, Beach House, beach, Anne...   4.0   \n",
       "4      NaN  pool, swim, swimming, Beach House, beach, Anne...   5.0   \n",
       "\n",
       "  Fee - Other      Unit  Additional Fee  Additional Fee Unit  ... Rate Tier  \\\n",
       "0         NaN   per day              NaN                 NaN  ...       NaN   \n",
       "1         NaN  per hour              NaN                 NaN  ...       NaN   \n",
       "2         NaN       NaN              NaN                 NaN  ...       NaN   \n",
       "3         NaN       NaN              NaN                 NaN  ...       NaN   \n",
       "4         NaN       NaN              NaN                 NaN  ...       NaN   \n",
       "\n",
       "                                            Comments  \\\n",
       "0  Parking ranges from $8-12, depending on season...   \n",
       "1  Per Resolution No. 10816 (CCS), this fee is no...   \n",
       "2  Per Resolution No. 10816 (CCS), this fee is no...   \n",
       "3  Per Resolution No. 10816 (CCS), this fee is no...   \n",
       "4  Per Resolution No. 10816 (CCS), this fee is no...   \n",
       "\n",
       "                                       External Link  \\\n",
       "0  Additional information is available at: \\n<a t...   \n",
       "1  Additional information is available at: \\n<a t...   \n",
       "2  Additional information is available at: \\n<a t...   \n",
       "3  Additional information is available at: \\n<a t...   \n",
       "4  Additional information is available at: \\n<a t...   \n",
       "\n",
       "                                               Notes  year  Fee  -  Other  \\\n",
       "0  NOTESBHP1 (http://www.smgov.net/Departments/Fi...  2014            NaN   \n",
       "1  NOTESBHP1 (http://www.smgov.net/Departments/Fi...  2014            NaN   \n",
       "2  NOTESBHP1 (http://www.smgov.net/Departments/Fi...  2014            NaN   \n",
       "3  NOTESBHP1 (http://www.smgov.net/Departments/Fi...  2014            NaN   \n",
       "4  NOTESBHP1 (http://www.smgov.net/Departments/Fi...  2014            NaN   \n",
       "\n",
       "  External Link(s) Additional Fee FEE  \\\n",
       "0              NaN            NaN NaN   \n",
       "1              NaN            NaN NaN   \n",
       "2              NaN            NaN NaN   \n",
       "3              NaN            NaN NaN   \n",
       "4              NaN            NaN NaN   \n",
       "\n",
       "                                            fee_name  \n",
       "0           Annenberg Community Beach House Parking   \n",
       "1           Annenberg Community Beach House Parking   \n",
       "2  Annenberg Community Beach House, Pool Day Pass...  \n",
       "3  Annenberg Community Beach House, Pool Day Pass...  \n",
       "4  Annenberg Community Beach House, Pool Day Pass...  \n",
       "\n",
       "[5 rows x 21 columns]"
      ]
     },
     "execution_count": 134,
     "metadata": {},
     "output_type": "execute_result"
    }
   ],
   "source": [
    "name1 = 'Fee Name / Description'\n",
    "name2 = 'Fee Name/Description'\n",
    "\n",
    "fees_all_years_pdf['fee_name'] = fees_all_years_pdf[name1].combine_first(fees_all_years_pdf[name2])\n",
    "fees_all_years_pdf.drop([name1, name2],axis=1).head()"
   ]
  },
  {
   "cell_type": "code",
   "execution_count": 152,
   "metadata": {},
   "outputs": [
    {
     "data": {
      "text/html": [
       "<div>\n",
       "<style scoped>\n",
       "    .dataframe tbody tr th:only-of-type {\n",
       "        vertical-align: middle;\n",
       "    }\n",
       "\n",
       "    .dataframe tbody tr th {\n",
       "        vertical-align: top;\n",
       "    }\n",
       "\n",
       "    .dataframe thead th {\n",
       "        text-align: right;\n",
       "    }\n",
       "</style>\n",
       "<table border=\"1\" class=\"dataframe\">\n",
       "  <thead>\n",
       "    <tr style=\"text-align: right;\">\n",
       "      <th></th>\n",
       "      <th>year</th>\n",
       "      <th>Fee</th>\n",
       "    </tr>\n",
       "  </thead>\n",
       "  <tbody>\n",
       "    <tr>\n",
       "      <th>149</th>\n",
       "      <td>2014</td>\n",
       "      <td>55.0</td>\n",
       "    </tr>\n",
       "    <tr>\n",
       "      <th>1183</th>\n",
       "      <td>2015</td>\n",
       "      <td>55.0</td>\n",
       "    </tr>\n",
       "    <tr>\n",
       "      <th>150</th>\n",
       "      <td>2016</td>\n",
       "      <td>55.0</td>\n",
       "    </tr>\n",
       "    <tr>\n",
       "      <th>172</th>\n",
       "      <td>2017</td>\n",
       "      <td>55.0</td>\n",
       "    </tr>\n",
       "    <tr>\n",
       "      <th>168</th>\n",
       "      <td>2018</td>\n",
       "      <td>55.00</td>\n",
       "    </tr>\n",
       "    <tr>\n",
       "      <th>165</th>\n",
       "      <td>2019</td>\n",
       "      <td>55.00</td>\n",
       "    </tr>\n",
       "    <tr>\n",
       "      <th>1035</th>\n",
       "      <td>2020</td>\n",
       "      <td>NaN</td>\n",
       "    </tr>\n",
       "  </tbody>\n",
       "</table>\n",
       "</div>"
      ],
      "text/plain": [
       "      year    Fee\n",
       "149   2014   55.0\n",
       "1183  2015   55.0\n",
       "150   2016   55.0\n",
       "172   2017   55.0\n",
       "168   2018  55.00\n",
       "165   2019  55.00\n",
       "1035  2020    NaN"
      ]
     },
     "execution_count": 152,
     "metadata": {},
     "output_type": "execute_result"
    }
   ],
   "source": [
    "yearly_swim_pass_fees_pdf = fees_all_years_pdf[fees_all_years_pdf['fee_name'] == 'Community Aquatics\\n - Recreational and Fitness\\n - Swim Pass\\n - Residents - Adult'][['year','Fee']]#.set_index('year')\n",
    "yearly_swim_pass_fees_pdf"
   ]
  },
  {
   "cell_type": "markdown",
   "metadata": {},
   "source": [
    "looks like the fees haven't changed :)\n",
    "\n",
    "If the did, this plot would be much more interesting.  Is there anything which has changed?"
   ]
  },
  {
   "cell_type": "code",
   "execution_count": 153,
   "metadata": {},
   "outputs": [
    {
     "data": {
      "text/plain": [
       "year     int64\n",
       "Fee     object\n",
       "dtype: object"
      ]
     },
     "execution_count": 153,
     "metadata": {},
     "output_type": "execute_result"
    }
   ],
   "source": [
    "yearly_swim_pass_fees_pdf.dtypes"
   ]
  },
  {
   "cell_type": "code",
   "execution_count": 154,
   "metadata": {},
   "outputs": [],
   "source": [
    "yearly_swim_pass_fees_pdf['Fee'] = pd.to_numeric(yearly_swim_pass_fees_pdf['Fee'])"
   ]
  },
  {
   "cell_type": "code",
   "execution_count": 155,
   "metadata": {},
   "outputs": [
    {
     "data": {
      "text/plain": [
       "<AxesSubplot:xlabel='year'>"
      ]
     },
     "execution_count": 155,
     "metadata": {},
     "output_type": "execute_result"
    },
    {
     "data": {
      "image/png": "[encoded data removed]",
      "text/plain": [
       "<Figure size 432x288 with 1 Axes>"
      ]
     },
     "metadata": {
      "needs_background": "light"
     },
     "output_type": "display_data"
    }
   ],
   "source": [
    "yearly_swim_pass_fees_pdf.plot(x='year',y='Fee')"
   ]
  },
  {
   "cell_type": "code",
   "execution_count": 191,
   "metadata": {},
   "outputs": [],
   "source": [
    "yearly_parking_fees_pdf = fees_all_years_pdf[fees_all_years_pdf['fee_name'] == 'Community Event Fees,  Beach parking lot, 1550 PCH lot, Small'][['year','Fee']]"
   ]
  },
  {
   "cell_type": "code",
   "execution_count": 192,
   "metadata": {},
   "outputs": [
    {
     "data": {
      "text/html": [
       "<div>\n",
       "<style scoped>\n",
       "    .dataframe tbody tr th:only-of-type {\n",
       "        vertical-align: middle;\n",
       "    }\n",
       "\n",
       "    .dataframe tbody tr th {\n",
       "        vertical-align: top;\n",
       "    }\n",
       "\n",
       "    .dataframe thead th {\n",
       "        text-align: right;\n",
       "    }\n",
       "</style>\n",
       "<table border=\"1\" class=\"dataframe\">\n",
       "  <thead>\n",
       "    <tr style=\"text-align: right;\">\n",
       "      <th></th>\n",
       "      <th>year</th>\n",
       "      <th>Fee</th>\n",
       "    </tr>\n",
       "  </thead>\n",
       "  <tbody>\n",
       "    <tr>\n",
       "      <th>1482</th>\n",
       "      <td>2014</td>\n",
       "      <td>2068.0</td>\n",
       "    </tr>\n",
       "    <tr>\n",
       "      <th>954</th>\n",
       "      <td>2015</td>\n",
       "      <td>2140.38</td>\n",
       "    </tr>\n",
       "    <tr>\n",
       "      <th>1483</th>\n",
       "      <td>2016</td>\n",
       "      <td>2236.7</td>\n",
       "    </tr>\n",
       "    <tr>\n",
       "      <th>1490</th>\n",
       "      <td>2017</td>\n",
       "      <td>2314.98</td>\n",
       "    </tr>\n",
       "    <tr>\n",
       "      <th>1492</th>\n",
       "      <td>2018</td>\n",
       "      <td>2,416.84</td>\n",
       "    </tr>\n",
       "    <tr>\n",
       "      <th>1470</th>\n",
       "      <td>2019</td>\n",
       "      <td>2518.34</td>\n",
       "    </tr>\n",
       "    <tr>\n",
       "      <th>227</th>\n",
       "      <td>2020</td>\n",
       "      <td>NaN</td>\n",
       "    </tr>\n",
       "  </tbody>\n",
       "</table>\n",
       "</div>"
      ],
      "text/plain": [
       "      year       Fee\n",
       "1482  2014    2068.0\n",
       "954   2015   2140.38\n",
       "1483  2016    2236.7\n",
       "1490  2017   2314.98\n",
       "1492  2018  2,416.84\n",
       "1470  2019   2518.34\n",
       "227   2020       NaN"
      ]
     },
     "execution_count": 192,
     "metadata": {},
     "output_type": "execute_result"
    }
   ],
   "source": [
    "yearly_parking_fees_pdf"
   ]
  },
  {
   "cell_type": "code",
   "execution_count": 195,
   "metadata": {},
   "outputs": [],
   "source": [
    "yearly_parking_fees_pdf['Fee'] = yearly_parking_fees_pdf['Fee'].replace(',','')"
   ]
  },
  {
   "cell_type": "code",
   "execution_count": 196,
   "metadata": {},
   "outputs": [
    {
     "data": {
      "text/plain": [
       "1482     2068.0\n",
       "954     2140.38\n",
       "1483     2236.7\n",
       "1490    2314.98\n",
       "1492    2416.84\n",
       "1470    2518.34\n",
       "227         NaN\n",
       "Name: Fee, dtype: object"
      ]
     },
     "execution_count": 196,
     "metadata": {},
     "output_type": "execute_result"
    }
   ],
   "source": [
    "yearly_parking_fees_pdf['Fee'] "
   ]
  },
  {
   "cell_type": "code",
   "execution_count": 197,
   "metadata": {},
   "outputs": [],
   "source": [
    "yearly_parking_fees_pdf['Fee'] = pd.to_numeric(yearly_parking_fees_pdf['Fee'])"
   ]
  },
  {
   "cell_type": "code",
   "execution_count": 199,
   "metadata": {
    "tags": []
   },
   "outputs": [
    {
     "data": {
      "image/png": "[encoded data removed]",
      "text/plain": [
       "<Figure size 432x288 with 1 Axes>"
      ]
     },
     "metadata": {
      "needs_background": "light"
     },
     "output_type": "display_data"
    }
   ],
   "source": [
    "yearly_parking_fees_pdf.plot(x='year', y='Fee');"
   ]
  },
  {
   "cell_type": "markdown",
   "metadata": {},
   "source": [
    "OK, so Parking Rates are really going up!"
   ]
  },
  {
   "cell_type": "markdown",
   "metadata": {},
   "source": [
    "#### Let's import NYC NTA Boundaries and generate a GeoDataFrame"
   ]
  },
  {
   "cell_type": "code",
   "execution_count": 105,
   "metadata": {},
   "outputs": [],
   "source": [
    "nyc_nta_geojson = 'https://data.cityofnewyork.us/api/geospatial/cpf4-rkhq?method=export&format=GeoJSON'\n",
    "\n",
    "nta_gdf = gpd.read_file(nyc_nta_geojson)\n",
    "nta_gdf.to_crs(epsg=2263, inplace=True)"
   ]
  }
 ],
 "metadata": {
  "kernelspec": {
   "display_name": "Python 3 (ipykernel)",
   "language": "python",
   "name": "python3"
  },
  "language_info": {
   "codemirror_mode": {
    "name": "ipython",
    "version": 3
   },
   "file_extension": ".py",
   "mimetype": "text/x-python",
   "name": "python",
   "nbconvert_exporter": "python",
   "pygments_lexer": "ipython3",
   "version": "3.10.2"
  },
  "toc": {
   "base_numbering": 1,
   "nav_menu": {},
   "number_sections": false,
   "sideBar": true,
   "skip_h1_title": false,
   "title_cell": "Table of Contents",
   "title_sidebar": "Contents",
   "toc_cell": true,
   "toc_position": {
    "height": "856.364px",
    "left": "34px",
    "top": "110.284px",
    "width": "177.833px"
   },
   "toc_section_display": true,
   "toc_window_display": true
  }
 },
 "nbformat": 4,
 "nbformat_minor": 4
}
