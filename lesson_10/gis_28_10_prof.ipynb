{
 "cells": [
  {
   "cell_type": "markdown",
   "metadata": {},
   "source": [
    "# Lesson 10 - Fetching Data - Files"
   ]
  },
  {
   "cell_type": "markdown",
   "metadata": {},
   "source": [
    "# URL Library `urllib`\n",
    "\n",
    "- Uniform Resource Locator (an 'address' for the thing you wan on The Internet) \n",
    "- Library (Other's code we can use)\n",
    "\n",
    "[`https://docs.python.org/3/library/urllib.html`](https://docs.python.org/3/library/urllib.html)"
   ]
  },
  {
   "cell_type": "markdown",
   "metadata": {},
   "source": [
    "- We've been indirectly using `urllib` everytime we loaded data into pandas by reading from a url.\n",
    "- Here's a snapshot of the pandas making use of `urllib`\n",
    "\n",
    "![pandas_uses_urllib.png](./img/pandas_uses_urllib.png)\n",
    "\n",
    "[`https://github.com/pandas-dev/pandas/blob/a8968bfa696d51f73769c54f2630a9530488236a/pandas/io/common.py#L232`](https://github.com/pandas-dev/pandas/blob/a8968bfa696d51f73769c54f2630a9530488236a/pandas/io/common.py#L232)"
   ]
  },
  {
   "cell_type": "markdown",
   "metadata": {},
   "source": [
    "## Get a file by URL Manually\n",
    "- go here: https://www2.census.gov/geo/tiger/TIGER2021/TRACT/\n",
    "- click on `06` or \n",
    "- put this address in your browser: https://www2.census.gov/geo/tiger/TIGER2021/TRACT/tl_2021_06_tract.zip\n",
    "- you'll end up with a zip file\n",
    "- I put mine into a folder named ./data/tiger_manual/"
   ]
  },
  {
   "cell_type": "code",
   "execution_count": 3,
   "metadata": {},
   "outputs": [
    {
     "data": {
      "text/plain": [
       "['tl_2021_06_tract.zip']"
      ]
     },
     "execution_count": 3,
     "metadata": {},
     "output_type": "execute_result"
    }
   ],
   "source": [
    "import os\n",
    "\n",
    "os.listdir('./data/tiger_manual/')"
   ]
  },
  {
   "cell_type": "markdown",
   "metadata": {},
   "source": [
    "## Manually Unzip \n",
    "- I put mine into a folder named ./data/tiger_manual_unzipped/"
   ]
  },
  {
   "cell_type": "code",
   "execution_count": 5,
   "metadata": {},
   "outputs": [
    {
     "data": {
      "text/plain": [
       "['tl_2021_06_tract.prj',\n",
       " 'tl_2021_06_tract.shp.ea.iso.xml',\n",
       " 'tl_2021_06_tract.dbf',\n",
       " 'tl_2021_06_tract.shx',\n",
       " 'tl_2021_06_tract.cpg',\n",
       " 'tl_2021_06_tract.shp',\n",
       " 'tl_2021_06_tract.shp.iso.xml']"
      ]
     },
     "execution_count": 5,
     "metadata": {},
     "output_type": "execute_result"
    }
   ],
   "source": [
    "os.listdir('./data/tiger_manual/unzipped/')"
   ]
  },
  {
   "cell_type": "markdown",
   "metadata": {},
   "source": [
    "- You can now read those in using geopandas."
   ]
  },
  {
   "cell_type": "code",
   "execution_count": 6,
   "metadata": {},
   "outputs": [],
   "source": [
    "import geopandas as gpd\n",
    "manual_gdf = gpd.read_file('./data/tiger_manual/unzipped/')"
   ]
  },
  {
   "cell_type": "markdown",
   "metadata": {},
   "source": [
    "So What is it?"
   ]
  },
  {
   "cell_type": "code",
   "execution_count": 8,
   "metadata": {
    "tags": []
   },
   "outputs": [
    {
     "data": {
      "text/html": [
       "<div>\n",
       "<style scoped>\n",
       "    .dataframe tbody tr th:only-of-type {\n",
       "        vertical-align: middle;\n",
       "    }\n",
       "\n",
       "    .dataframe tbody tr th {\n",
       "        vertical-align: top;\n",
       "    }\n",
       "\n",
       "    .dataframe thead th {\n",
       "        text-align: right;\n",
       "    }\n",
       "</style>\n",
       "<table border=\"1\" class=\"dataframe\">\n",
       "  <thead>\n",
       "    <tr style=\"text-align: right;\">\n",
       "      <th></th>\n",
       "      <th>STATEFP</th>\n",
       "      <th>COUNTYFP</th>\n",
       "      <th>TRACTCE</th>\n",
       "      <th>GEOID</th>\n",
       "      <th>NAME</th>\n",
       "      <th>NAMELSAD</th>\n",
       "      <th>MTFCC</th>\n",
       "      <th>FUNCSTAT</th>\n",
       "      <th>ALAND</th>\n",
       "      <th>AWATER</th>\n",
       "      <th>INTPTLAT</th>\n",
       "      <th>INTPTLON</th>\n",
       "      <th>geometry</th>\n",
       "    </tr>\n",
       "  </thead>\n",
       "  <tbody>\n",
       "    <tr>\n",
       "      <th>0</th>\n",
       "      <td>06</td>\n",
       "      <td>085</td>\n",
       "      <td>504321</td>\n",
       "      <td>06085504321</td>\n",
       "      <td>5043.21</td>\n",
       "      <td>Census Tract 5043.21</td>\n",
       "      <td>G5020</td>\n",
       "      <td>S</td>\n",
       "      <td>1450237</td>\n",
       "      <td>0</td>\n",
       "      <td>+37.3931319</td>\n",
       "      <td>-121.8651427</td>\n",
       "      <td>POLYGON ((-121.87556 37.39924, -121.87535 37.3...</td>\n",
       "    </tr>\n",
       "    <tr>\n",
       "      <th>1</th>\n",
       "      <td>06</td>\n",
       "      <td>085</td>\n",
       "      <td>504410</td>\n",
       "      <td>06085504410</td>\n",
       "      <td>5044.10</td>\n",
       "      <td>Census Tract 5044.10</td>\n",
       "      <td>G5020</td>\n",
       "      <td>S</td>\n",
       "      <td>1102136</td>\n",
       "      <td>0</td>\n",
       "      <td>+37.4093719</td>\n",
       "      <td>-121.8788884</td>\n",
       "      <td>POLYGON ((-121.88886 37.40758, -121.88576 37.4...</td>\n",
       "    </tr>\n",
       "    <tr>\n",
       "      <th>2</th>\n",
       "      <td>06</td>\n",
       "      <td>085</td>\n",
       "      <td>507003</td>\n",
       "      <td>06085507003</td>\n",
       "      <td>5070.03</td>\n",
       "      <td>Census Tract 5070.03</td>\n",
       "      <td>G5020</td>\n",
       "      <td>S</td>\n",
       "      <td>9529865</td>\n",
       "      <td>0</td>\n",
       "      <td>+37.2199936</td>\n",
       "      <td>-121.9979512</td>\n",
       "      <td>POLYGON ((-122.02489 37.21683, -122.02459 37.2...</td>\n",
       "    </tr>\n",
       "    <tr>\n",
       "      <th>3</th>\n",
       "      <td>06</td>\n",
       "      <td>085</td>\n",
       "      <td>507004</td>\n",
       "      <td>06085507004</td>\n",
       "      <td>5070.04</td>\n",
       "      <td>Census Tract 5070.04</td>\n",
       "      <td>G5020</td>\n",
       "      <td>S</td>\n",
       "      <td>2424447</td>\n",
       "      <td>0</td>\n",
       "      <td>+37.2260144</td>\n",
       "      <td>-121.9763816</td>\n",
       "      <td>POLYGON ((-121.99304 37.22562, -121.99249 37.2...</td>\n",
       "    </tr>\n",
       "    <tr>\n",
       "      <th>4</th>\n",
       "      <td>06</td>\n",
       "      <td>085</td>\n",
       "      <td>502204</td>\n",
       "      <td>06085502204</td>\n",
       "      <td>5022.04</td>\n",
       "      <td>Census Tract 5022.04</td>\n",
       "      <td>G5020</td>\n",
       "      <td>S</td>\n",
       "      <td>331145</td>\n",
       "      <td>0</td>\n",
       "      <td>+37.3013832</td>\n",
       "      <td>-121.9258424</td>\n",
       "      <td>POLYGON ((-121.93167 37.29803, -121.92801 37.3...</td>\n",
       "    </tr>\n",
       "  </tbody>\n",
       "</table>\n",
       "</div>"
      ],
      "text/plain": [
       "  STATEFP COUNTYFP TRACTCE        GEOID     NAME              NAMELSAD  MTFCC  \\\n",
       "0      06      085  504321  06085504321  5043.21  Census Tract 5043.21  G5020   \n",
       "1      06      085  504410  06085504410  5044.10  Census Tract 5044.10  G5020   \n",
       "2      06      085  507003  06085507003  5070.03  Census Tract 5070.03  G5020   \n",
       "3      06      085  507004  06085507004  5070.04  Census Tract 5070.04  G5020   \n",
       "4      06      085  502204  06085502204  5022.04  Census Tract 5022.04  G5020   \n",
       "\n",
       "  FUNCSTAT    ALAND  AWATER     INTPTLAT      INTPTLON  \\\n",
       "0        S  1450237       0  +37.3931319  -121.8651427   \n",
       "1        S  1102136       0  +37.4093719  -121.8788884   \n",
       "2        S  9529865       0  +37.2199936  -121.9979512   \n",
       "3        S  2424447       0  +37.2260144  -121.9763816   \n",
       "4        S   331145       0  +37.3013832  -121.9258424   \n",
       "\n",
       "                                            geometry  \n",
       "0  POLYGON ((-121.87556 37.39924, -121.87535 37.3...  \n",
       "1  POLYGON ((-121.88886 37.40758, -121.88576 37.4...  \n",
       "2  POLYGON ((-122.02489 37.21683, -122.02459 37.2...  \n",
       "3  POLYGON ((-121.99304 37.22562, -121.99249 37.2...  \n",
       "4  POLYGON ((-121.93167 37.29803, -121.92801 37.3...  "
      ]
     },
     "execution_count": 8,
     "metadata": {},
     "output_type": "execute_result"
    }
   ],
   "source": [
    "manual_gdf.head()"
   ]
  },
  {
   "cell_type": "code",
   "execution_count": 11,
   "metadata": {},
   "outputs": [
    {
     "data": {
      "text/plain": [
       "<AxesSubplot:>"
      ]
     },
     "execution_count": 11,
     "metadata": {},
     "output_type": "execute_result"
    },
    {
     "data": {
      "image/png": "[encoded data removed]",
      "text/plain": [
       "<Figure size 432x288 with 1 Axes>"
      ]
     },
     "metadata": {
      "needs_background": "light"
     },
     "output_type": "display_data"
    }
   ],
   "source": [
    "manual_gdf.plot()"
   ]
  },
  {
   "cell_type": "markdown",
   "metadata": {},
   "source": [
    "**Every Census Tract for all of California!  No wonder it took a bit of time to download!**"
   ]
  },
  {
   "cell_type": "markdown",
   "metadata": {
    "tags": []
   },
   "source": [
    "### [How to: Fetch Internet Resources Using The urllib Package](https://docs.python.org/3/howto/urllib2.html)"
   ]
  },
  {
   "cell_type": "code",
   "execution_count": 15,
   "metadata": {},
   "outputs": [],
   "source": [
    "file_url = 'https://www2.census.gov/geo/tiger/TIGER2021/TRACT/tl_2021_06_tract.zip'"
   ]
  },
  {
   "cell_type": "code",
   "execution_count": 16,
   "metadata": {},
   "outputs": [],
   "source": [
    "import urllib "
   ]
  },
  {
   "cell_type": "code",
   "execution_count": 20,
   "metadata": {},
   "outputs": [],
   "source": [
    "os.mkdir('./data/tiger_via_python/')"
   ]
  },
  {
   "cell_type": "markdown",
   "metadata": {},
   "source": [
    "## `urllib.request.urlretrieve`\n",
    "> Copy a network object denoted by a URL to a local file. \n",
    "\n",
    "[`https://docs.python.org/3/library/urllib.request.html#urllib.request.urlretrieve`](https://docs.python.org/3/library/urllib.request.html#urllib.request.urlretrieve)"
   ]
  },
  {
   "cell_type": "code",
   "execution_count": 21,
   "metadata": {},
   "outputs": [
    {
     "data": {
      "text/plain": [
       "('data/tiger_via_python/tl_2021_06_tract.zip',\n",
       " <http.client.HTTPMessage at 0x7fe8276613f0>)"
      ]
     },
     "execution_count": 21,
     "metadata": {},
     "output_type": "execute_result"
    }
   ],
   "source": [
    "urllib.request.urlretrieve(file_url, 'data/tiger_via_python/tl_2021_06_tract.zip')"
   ]
  },
  {
   "cell_type": "markdown",
   "metadata": {
    "tags": []
   },
   "source": [
    "# Topologically Integrated Geographic Encoding and Referencing = TIGER\n",
    "\n",
    "![US-Census-TIGERLogo.png](./img/US-Census-TIGERLogo.png)\n",
    "\n",
    "- Sometimes called TIGER/Line files (\"Line' files makes sense as a name,  that's what they are, a bunch of lines.  But also, tigers have lines; so, I guess that's easy to remember)\n",
    "- Go here: https://www.census.gov/geographies/mapping-files/time-series/geo/tiger-line-file.html\n",
    "- Follow hte FTP Archive Link at the bottom under `Download`"
   ]
  },
  {
   "cell_type": "markdown",
   "metadata": {},
   "source": [
    "https://en.wikipedia.org/wiki/Topologically_Integrated_Geographic_Encoding_and_Referencing\n",
    "\n",
    "The endpoints are unique based on the GEOID for the State. \n",
    "\n",
    "Example URL:\n",
    "`https://www2.census.gov/geo/tiger/TIGER2021/TRACT/tl_2021_01_tract.zip`\n",
    "\n",
    "California is GEOID 06. See a list of all the State FIPS codes [https://en.wikipedia.org/wiki/Federal_Information_Processing_Standard_state_code](https://en.wikipedia.org/wiki/Federal_Information_Processing_Standard_state_code). "
   ]
  },
  {
   "cell_type": "markdown",
   "metadata": {},
   "source": [
    "![us-PyPI.png](./img/us-PyPI.png)"
   ]
  },
  {
   "cell_type": "code",
   "execution_count": null,
   "metadata": {},
   "outputs": [],
   "source": [
    "#  conda install -c conda-forge us  "
   ]
  },
  {
   "cell_type": "code",
   "execution_count": 22,
   "metadata": {},
   "outputs": [],
   "source": [
    "import us"
   ]
  },
  {
   "cell_type": "code",
   "execution_count": 29,
   "metadata": {},
   "outputs": [
    {
     "data": {
      "text/plain": [
       "'Sacramento'"
      ]
     },
     "execution_count": 29,
     "metadata": {},
     "output_type": "execute_result"
    }
   ],
   "source": [
    "us.states.CA.capital"
   ]
  },
  {
   "cell_type": "code",
   "execution_count": 31,
   "metadata": {},
   "outputs": [
    {
     "data": {
      "text/plain": [
       "['America/Los_Angeles']"
      ]
     },
     "execution_count": 31,
     "metadata": {},
     "output_type": "execute_result"
    }
   ],
   "source": [
    "us.states.CA.time_zones"
   ]
  },
  {
   "cell_type": "code",
   "execution_count": 33,
   "metadata": {},
   "outputs": [
    {
     "data": {
      "text/plain": [
       "{'tract': 'https://www2.census.gov/geo/tiger/TIGER2010/TRACT/2010/tl_2010_06_tract10.zip',\n",
       " 'cd': 'https://www2.census.gov/geo/tiger/TIGER2010/CD/111/tl_2010_06_cd111.zip',\n",
       " 'county': 'https://www2.census.gov/geo/tiger/TIGER2010/COUNTY/2010/tl_2010_06_county10.zip',\n",
       " 'state': 'https://www2.census.gov/geo/tiger/TIGER2010/STATE/2010/tl_2010_06_state10.zip',\n",
       " 'zcta': 'https://www2.census.gov/geo/tiger/TIGER2010/ZCTA5/2010/tl_2010_06_zcta510.zip',\n",
       " 'block': 'https://www2.census.gov/geo/tiger/TIGER2010/TABBLOCK/2010/tl_2010_06_tabblock10.zip',\n",
       " 'blockgroup': 'https://www2.census.gov/geo/tiger/TIGER2010/BG/2010/tl_2010_06_bg10.zip'}"
      ]
     },
     "execution_count": 33,
     "metadata": {},
     "output_type": "execute_result"
    }
   ],
   "source": [
    "us.states.CA.shapefile_urls()"
   ]
  },
  {
   "cell_type": "code",
   "execution_count": 38,
   "metadata": {},
   "outputs": [
    {
     "data": {
      "text/plain": [
       "<module 'us.states' from '/home/javier/miniconda3/envs/gis/lib/python3.10/site-packages/us/states.py'>"
      ]
     },
     "execution_count": 38,
     "metadata": {},
     "output_type": "execute_result"
    }
   ],
   "source": [
    "us.states"
   ]
  },
  {
   "cell_type": "code",
   "execution_count": 34,
   "metadata": {},
   "outputs": [
    {
     "data": {
      "text/plain": [
       "'06'"
      ]
     },
     "execution_count": 34,
     "metadata": {},
     "output_type": "execute_result"
    }
   ],
   "source": [
    "us.states.CA.fips"
   ]
  },
  {
   "cell_type": "markdown",
   "metadata": {},
   "source": [
    "- Maybe a bit out of date, but still quite useful!"
   ]
  },
  {
   "cell_type": "markdown",
   "metadata": {
    "tags": []
   },
   "source": [
    "#### Say you wanted to get the states of California, Texas, and New York \n",
    "\n",
    "`['06', '48', '36']`"
   ]
  },
  {
   "cell_type": "code",
   "execution_count": 39,
   "metadata": {},
   "outputs": [
    {
     "name": "stdout",
     "output_type": "stream",
     "text": [
      "06\n",
      "48\n",
      "36\n"
     ]
    }
   ],
   "source": [
    "print(us.states.CA.fips)\n",
    "print(us.states.TX.fips)\n",
    "print(us.states.NY.fips)"
   ]
  },
  {
   "cell_type": "markdown",
   "metadata": {},
   "source": [
    "Or you could always just look these up online"
   ]
  },
  {
   "cell_type": "code",
   "execution_count": 40,
   "metadata": {},
   "outputs": [],
   "source": [
    "list_ca_tx_ny_fips = ['06', '48', '36']"
   ]
  },
  {
   "cell_type": "markdown",
   "metadata": {},
   "source": [
    "#### Create a loop "
   ]
  },
  {
   "cell_type": "code",
   "execution_count": 41,
   "metadata": {},
   "outputs": [
    {
     "name": "stdout",
     "output_type": "stream",
     "text": [
      "06\n",
      "48\n",
      "36\n"
     ]
    }
   ],
   "source": [
    "for fips in list_ca_tx_ny_fips:\n",
    "    print(fips)\n",
    "    file_url = f'https://www2.census.gov/geo/tiger/TIGER2021/TRACT/tl_2021_{fips}_tract.zip'\n",
    "    urllib.request.urlretrieve(file_url, f'data/tl_2021_{fips}_tract.zip')  "
   ]
  },
  {
   "cell_type": "code",
   "execution_count": 42,
   "metadata": {},
   "outputs": [],
   "source": [
    "import zipfile"
   ]
  },
  {
   "cell_type": "code",
   "execution_count": 22,
   "metadata": {},
   "outputs": [
    {
     "data": {
      "text/plain": [
       "<zipfile.ZipFile filename='data/tl_2021_06_tract.zip' mode='r'>"
      ]
     },
     "execution_count": 22,
     "metadata": {},
     "output_type": "execute_result"
    }
   ],
   "source": [
    "z = zipfile.ZipFile('data/tl_2021_06_tract.zip')\n",
    "\n",
    "z"
   ]
  },
  {
   "cell_type": "markdown",
   "metadata": {},
   "source": [
    "## `zipfile.ZipFile` \n",
    "> Open a ZIP file, where file can be a path to a file (a string), a file-like object or a path-like object.\n",
    "\n",
    "[`https://docs.python.org/3/library/zipfile.html#zipfile-objects`](https://docs.python.org/3/library/zipfile.html#zipfile-objects)"
   ]
  },
  {
   "cell_type": "code",
   "execution_count": 43,
   "metadata": {},
   "outputs": [],
   "source": [
    "z = zipfile.ZipFile('./data/tl_2021_36_tract.zip')"
   ]
  },
  {
   "cell_type": "markdown",
   "metadata": {},
   "source": [
    "## `ZipFile.extractall`\n",
    "> Extract all members from the archive to the current working directory.\n",
    "\n",
    "[`https://docs.python.org/3/library/zipfile.html#zipfile.ZipFile.extractall`](https://docs.python.org/3/library/zipfile.html#zipfile.ZipFile.extractall)"
   ]
  },
  {
   "cell_type": "code",
   "execution_count": 44,
   "metadata": {},
   "outputs": [],
   "source": [
    "z.extractall('data/test_extract/')"
   ]
  },
  {
   "cell_type": "code",
   "execution_count": 45,
   "metadata": {},
   "outputs": [
    {
     "data": {
      "text/plain": [
       "['tl_2021_36_tract.dbf',\n",
       " 'tl_2021_36_tract.prj',\n",
       " 'tl_2021_36_tract.shx',\n",
       " 'tl_2021_36_tract.shp.ea.iso.xml',\n",
       " 'tl_2021_36_tract.cpg',\n",
       " 'tl_2021_36_tract.shp',\n",
       " 'tl_2021_36_tract.shp.iso.xml']"
      ]
     },
     "execution_count": 45,
     "metadata": {},
     "output_type": "execute_result"
    }
   ],
   "source": [
    "os.listdir('data/test_extract/')"
   ]
  },
  {
   "cell_type": "markdown",
   "metadata": {},
   "source": [
    "## Combine Shapefiles"
   ]
  },
  {
   "cell_type": "markdown",
   "metadata": {},
   "source": [
    "#### Now let's loop through our Big State Shapefiles"
   ]
  },
  {
   "cell_type": "code",
   "execution_count": 47,
   "metadata": {},
   "outputs": [],
   "source": [
    "for fips in list_ca_tx_ny_fips:\n",
    "    z = zipfile.ZipFile(f'data/tl_2021_{fips}_tract.zip')\n",
    "    z.extractall('data/big_state_tracts')"
   ]
  },
  {
   "cell_type": "markdown",
   "metadata": {},
   "source": [
    "## `Lib/glob.py`\n",
    "> The glob module finds all the pathnames matching a specified pattern according to the rules used by the Unix shell, although results are returned in arbitrary order.\n",
    "\n",
    "[`https://docs.python.org/3/library/glob.html`](https://docs.python.org/3/library/glob.html)"
   ]
  },
  {
   "cell_type": "code",
   "execution_count": 49,
   "metadata": {},
   "outputs": [],
   "source": [
    "import glob"
   ]
  },
  {
   "cell_type": "code",
   "execution_count": 27,
   "metadata": {},
   "outputs": [
    {
     "data": {
      "text/plain": [
       "['data/big_state_tracts/tl_2021_48_tract.prj',\n",
       " 'data/big_state_tracts/tl_2021_36_tract.dbf',\n",
       " 'data/big_state_tracts/tl_2021_36_tract.prj',\n",
       " 'data/big_state_tracts/tl_2021_06_tract.prj',\n",
       " 'data/big_state_tracts/tl_2021_06_tract.shp.ea.iso.xml',\n",
       " 'data/big_state_tracts/tl_2021_36_tract.shx',\n",
       " 'data/big_state_tracts/tl_2021_06_tract.dbf',\n",
       " 'data/big_state_tracts/tl_2021_06_tract.shx',\n",
       " 'data/big_state_tracts/tl_2021_36_tract.shp.ea.iso.xml',\n",
       " 'data/big_state_tracts/tl_2021_48_tract.shx',\n",
       " 'data/big_state_tracts/tl_2021_06_tract.cpg',\n",
       " 'data/big_state_tracts/tl_2021_48_tract.cpg',\n",
       " 'data/big_state_tracts/tl_2021_48_tract.shp',\n",
       " 'data/big_state_tracts/tl_2021_48_tract.dbf',\n",
       " 'data/big_state_tracts/tl_2021_36_tract.cpg',\n",
       " 'data/big_state_tracts/tl_2021_48_tract.shp.iso.xml',\n",
       " 'data/big_state_tracts/tl_2021_36_tract.shp',\n",
       " 'data/big_state_tracts/tl_2021_06_tract.shp',\n",
       " 'data/big_state_tracts/tl_2021_36_tract.shp.iso.xml',\n",
       " 'data/big_state_tracts/tl_2021_48_tract.shp.ea.iso.xml',\n",
       " 'data/big_state_tracts/tl_2021_06_tract.shp.iso.xml']"
      ]
     },
     "execution_count": 27,
     "metadata": {},
     "output_type": "execute_result"
    }
   ],
   "source": [
    "glob.glob('data/big_state_tracts/*')"
   ]
  },
  {
   "cell_type": "markdown",
   "metadata": {},
   "source": [
    "## `glob.glob`\n",
    "> Return a possibly-empty list of path names that match pathname, which must be a string containing a path specification. \n",
    "\n",
    "[`https://docs.python.org/3/library/glob.html#glob.glob`](https://docs.python.org/3/library/glob.html#glob.glob)"
   ]
  },
  {
   "cell_type": "code",
   "execution_count": 51,
   "metadata": {},
   "outputs": [
    {
     "data": {
      "text/plain": [
       "['data/big_state_tracts/tl_2021_48_tract.shp',\n",
       " 'data/big_state_tracts/tl_2021_36_tract.shp',\n",
       " 'data/big_state_tracts/tl_2021_06_tract.shp']"
      ]
     },
     "execution_count": 51,
     "metadata": {},
     "output_type": "execute_result"
    }
   ],
   "source": [
    "glob.glob('data/big_state_tracts/*.shp')"
   ]
  },
  {
   "cell_type": "markdown",
   "metadata": {},
   "source": [
    "## `pandas.concat`\n",
    "> Concatenate pandas objects along a particular axis with optional set logic along the other axes.\n",
    "\n",
    "[`https://pandas.pydata.org/docs/reference/api/pandas.concat.html#pandas-concat`](https://pandas.pydata.org/docs/reference/api/pandas.concat.html#pandas-concat)"
   ]
  },
  {
   "cell_type": "code",
   "execution_count": 53,
   "metadata": {
    "tags": []
   },
   "outputs": [],
   "source": [
    "list_gdf_from_shape_files = []\n",
    "\n",
    "for shp in glob.glob('data/big_state_tracts/*.shp'):\n",
    "    gdf = gpd.read_file(shp)\n",
    "    \n",
    "    list_gdf_from_shape_files.append(gdf)"
   ]
  },
  {
   "cell_type": "code",
   "execution_count": 55,
   "metadata": {},
   "outputs": [],
   "source": [
    "import pandas as pd\n",
    "big_state_tracts_gdf = pd.concat(list_gdf_from_shape_files)"
   ]
  },
  {
   "cell_type": "markdown",
   "metadata": {},
   "source": [
    "_other ways to combine in `pandas`_\n",
    "[`https://pandas.pydata.org/pandas-docs/stable/user_guide/merging.html`](https://pandas.pydata.org/pandas-docs/stable/user_guide/merging.html)"
   ]
  },
  {
   "cell_type": "code",
   "execution_count": 56,
   "metadata": {},
   "outputs": [
    {
     "data": {
      "image/png": "[encoded data removed]",
      "text/plain": [
       "<Figure size 432x288 with 1 Axes>"
      ]
     },
     "metadata": {
      "needs_background": "light"
     },
     "output_type": "display_data"
    }
   ],
   "source": [
    "big_state_tracts_gdf.plot();"
   ]
  },
  {
   "cell_type": "code",
   "execution_count": 74,
   "metadata": {},
   "outputs": [],
   "source": [
    "#!pip install xlrd"
   ]
  },
  {
   "cell_type": "code",
   "execution_count": 79,
   "metadata": {},
   "outputs": [],
   "source": [
    "df = pd.read_excel('data/rollingsales_statenisland.xls')"
   ]
  },
  {
   "cell_type": "markdown",
   "metadata": {},
   "source": [
    "# Dealing with data spread across multiple files."
   ]
  },
  {
   "cell_type": "markdown",
   "metadata": {
    "tags": []
   },
   "source": [
    "#### Extract Fees for Services in Santa Monica Over 2014 to 2022\n",
    "\n",
    "- This is an example of data published on a yearly cadance which we may want stiched together into a single dataframe for analysis."
   ]
  },
  {
   "cell_type": "markdown",
   "metadata": {},
   "source": [
    "![samo_fees_and_rates_screenshot.png](./img/samo_fees_and_rates_screenshot.png)"
   ]
  },
  {
   "cell_type": "markdown",
   "metadata": {
    "jp-MarkdownHeadingCollapsed": true,
    "tags": []
   },
   "source": [
    "- ### Visit https://data.smgov.net/browse?q=%22Fees%20and%20Rates%22%20Finance&sortBy=alpha\n",
    "\n",
    "- ### Click through and download `csv`s for each of these years.\n",
    "![download_fees_as_csv.png](./img/download_fees_as_csv.png)\n"
   ]
  },
  {
   "cell_type": "markdown",
   "metadata": {},
   "source": []
  },
  {
   "cell_type": "markdown",
   "metadata": {},
   "source": [
    "\n",
    "\n",
    "- ### Collect them into a single folder (I called mine `samo_fees`). \n",
    "(On Dolphin in KDE Linux it looks like this)\n",
    "\n",
    "![downloaded_samo_fees_screenshot](./img/downloaded_samo_fees_screenshot.png)\n",
    "\n",
    "Open a few of these files and confirm they've all got the same headder"
   ]
  },
  {
   "cell_type": "code",
   "execution_count": 59,
   "metadata": {},
   "outputs": [
    {
     "data": {
      "text/plain": [
       "['Fees_and_Rates_2017-18.csv',\n",
       " 'Fees_and_Rates_2018-19.csv',\n",
       " 'Fees_and_Rates_2019-20.csv',\n",
       " 'Fees_and_Rates_2015-16.csv',\n",
       " 'Fees_and_Rates_2016-17.csv',\n",
       " 'Fees_and_Rates_2021-2022.csv',\n",
       " 'Fees_and_Rates_2014-15.csv']"
      ]
     },
     "execution_count": 59,
     "metadata": {},
     "output_type": "execute_result"
    }
   ],
   "source": [
    "os.listdir('samo_fees/')"
   ]
  },
  {
   "cell_type": "markdown",
   "metadata": {
    "tags": []
   },
   "source": [
    "## `Lib/pathlib.py` \n",
    "> This module offers classes representing filesystem paths with semantics appropriate for different operating systems. Path classes are divided between pure paths, which provide purely computational operations without I/O, and concrete paths, which inherit from pure paths but also provide I/O operations.\n",
    "\n",
    "[`https://docs.python.org/3/library/pathlib.html`](https://docs.python.org/3/library/pathlib.html)"
   ]
  },
  {
   "cell_type": "code",
   "execution_count": 65,
   "metadata": {},
   "outputs": [],
   "source": [
    "from pathlib import Path\n",
    "\n",
    "samo_fees_base_path = Path('./samo_fees')"
   ]
  },
  {
   "cell_type": "markdown",
   "metadata": {},
   "source": [
    "## `Path.glob()`\n",
    "> Glob the given relative pattern in the directory represented by this path, yielding all matching files (of any kind):\n",
    "\n",
    "[`https://docs.python.org/3/library/pathlib.html#pathlib.Path.glob`](https://docs.python.org/3/library/pathlib.html#pathlib.Path.glob)"
   ]
  },
  {
   "cell_type": "code",
   "execution_count": 81,
   "metadata": {},
   "outputs": [
    {
     "data": {
      "text/plain": [
       "[PosixPath('samo_fees/Fees_and_Rates_2014-15.csv'),\n",
       " PosixPath('samo_fees/Fees_and_Rates_2015-16.csv'),\n",
       " PosixPath('samo_fees/Fees_and_Rates_2016-17.csv'),\n",
       " PosixPath('samo_fees/Fees_and_Rates_2017-18.csv'),\n",
       " PosixPath('samo_fees/Fees_and_Rates_2018-19.csv'),\n",
       " PosixPath('samo_fees/Fees_and_Rates_2019-20.csv'),\n",
       " PosixPath('samo_fees/Fees_and_Rates_2021-2022.csv')]"
      ]
     },
     "execution_count": 81,
     "metadata": {},
     "output_type": "execute_result"
    }
   ],
   "source": [
    "yearly_fee_rates_list = sorted(samo_fees_base_path.glob('*.csv'))\n",
    "yearly_fee_rates_list"
   ]
  },
  {
   "cell_type": "code",
   "execution_count": 83,
   "metadata": {},
   "outputs": [],
   "source": [
    "years_list = [2014,2015,2016,2017,2018,2019,2020,2021]"
   ]
  },
  {
   "cell_type": "code",
   "execution_count": 84,
   "metadata": {},
   "outputs": [
    {
     "data": {
      "text/plain": [
       "[(PosixPath('samo_fees/Fees_and_Rates_2014-15.csv'), 2014),\n",
       " (PosixPath('samo_fees/Fees_and_Rates_2015-16.csv'), 2015),\n",
       " (PosixPath('samo_fees/Fees_and_Rates_2016-17.csv'), 2016),\n",
       " (PosixPath('samo_fees/Fees_and_Rates_2017-18.csv'), 2017),\n",
       " (PosixPath('samo_fees/Fees_and_Rates_2018-19.csv'), 2018),\n",
       " (PosixPath('samo_fees/Fees_and_Rates_2019-20.csv'), 2019),\n",
       " (PosixPath('samo_fees/Fees_and_Rates_2021-2022.csv'), 2020)]"
      ]
     },
     "execution_count": 84,
     "metadata": {},
     "output_type": "execute_result"
    }
   ],
   "source": [
    "list(zip(yearly_fee_rates_list, years_list))"
   ]
  },
  {
   "cell_type": "code",
   "execution_count": 89,
   "metadata": {},
   "outputs": [],
   "source": [
    "def combine_years(list_of_files, year_list):\n",
    "    total_rows = 0\n",
    "    pdf_list = []\n",
    "    \n",
    "    for n, file in enumerate(list_of_files):\n",
    "        print(year_list[n], file)\n",
    "        pdf = pd.read_csv(file)\n",
    "        pdf['year'] = year_list[n]\n",
    "        num_rows = pdf.shape[0]\n",
    "        print('    ', num_rows,'\\n')\n",
    "        total_rows += num_rows\n",
    "        pdf_list.append(pdf)\n",
    "        \n",
    "    pdf_all = pd.concat(pdf_list)\n",
    "    \n",
    "    print(f'total rows: {total_rows}')\n",
    "    return pdf_all"
   ]
  },
  {
   "cell_type": "code",
   "execution_count": 90,
   "metadata": {},
   "outputs": [
    {
     "name": "stdout",
     "output_type": "stream",
     "text": [
      "2014 samo_fees/Fees_and_Rates_2014-15.csv\n",
      "     1608 \n",
      "\n",
      "2015 samo_fees/Fees_and_Rates_2015-16.csv\n",
      "     1651 \n",
      "\n",
      "2016 samo_fees/Fees_and_Rates_2016-17.csv\n",
      "     1695 \n",
      "\n",
      "2017 samo_fees/Fees_and_Rates_2017-18.csv\n",
      "     1706 \n",
      "\n",
      "2018 samo_fees/Fees_and_Rates_2018-19.csv\n",
      "     1848 \n",
      "\n",
      "2019 samo_fees/Fees_and_Rates_2019-20.csv\n",
      "     1858 \n",
      "\n",
      "2020 samo_fees/Fees_and_Rates_2021-2022.csv\n",
      "     1782 \n",
      "\n",
      "total rows: 12148\n"
     ]
    }
   ],
   "source": [
    "fees_all_years_pdf = combine_years(yearly_fee_rates_list, years_list)"
   ]
  },
  {
   "cell_type": "code",
   "execution_count": 91,
   "metadata": {},
   "outputs": [
    {
     "data": {
      "text/plain": [
       "(12148, 22)"
      ]
     },
     "execution_count": 91,
     "metadata": {},
     "output_type": "execute_result"
    }
   ],
   "source": [
    "fees_all_years_pdf.shape"
   ]
  },
  {
   "cell_type": "code",
   "execution_count": 92,
   "metadata": {},
   "outputs": [
    {
     "data": {
      "text/html": [
       "<div>\n",
       "<style scoped>\n",
       "    .dataframe tbody tr th:only-of-type {\n",
       "        vertical-align: middle;\n",
       "    }\n",
       "\n",
       "    .dataframe tbody tr th {\n",
       "        vertical-align: top;\n",
       "    }\n",
       "\n",
       "    .dataframe thead th {\n",
       "        text-align: right;\n",
       "    }\n",
       "</style>\n",
       "<table border=\"1\" class=\"dataframe\">\n",
       "  <thead>\n",
       "    <tr style=\"text-align: right;\">\n",
       "      <th></th>\n",
       "      <th>Department</th>\n",
       "      <th>Division</th>\n",
       "      <th>Category</th>\n",
       "      <th>Activity</th>\n",
       "      <th>Keywords</th>\n",
       "      <th>Fee Name / Description</th>\n",
       "      <th>Fee</th>\n",
       "      <th>Fee - Other</th>\n",
       "      <th>Unit</th>\n",
       "      <th>Additional Fee</th>\n",
       "      <th>...</th>\n",
       "      <th>Rate Tier</th>\n",
       "      <th>Comments</th>\n",
       "      <th>External Link</th>\n",
       "      <th>Notes</th>\n",
       "      <th>year</th>\n",
       "      <th>Fee Name/Description</th>\n",
       "      <th>Fee  -  Other</th>\n",
       "      <th>External Link(s)</th>\n",
       "      <th>Additional Fee</th>\n",
       "      <th>FEE</th>\n",
       "    </tr>\n",
       "  </thead>\n",
       "  <tbody>\n",
       "    <tr>\n",
       "      <th>0</th>\n",
       "      <td>Community and Cultural Services</td>\n",
       "      <td>Cultural Affairs</td>\n",
       "      <td>Parking</td>\n",
       "      <td>NaN</td>\n",
       "      <td>Parking, Beach, Beach House, Annenberg Beach H...</td>\n",
       "      <td>Annenberg Community Beach House Parking</td>\n",
       "      <td>12.0</td>\n",
       "      <td>NaN</td>\n",
       "      <td>per day</td>\n",
       "      <td>NaN</td>\n",
       "      <td>...</td>\n",
       "      <td>NaN</td>\n",
       "      <td>Parking ranges from $8-12, depending on season...</td>\n",
       "      <td>Additional information is available at: \\n&lt;a t...</td>\n",
       "      <td>NOTESBHP1 (http://www.smgov.net/Departments/Fi...</td>\n",
       "      <td>2014</td>\n",
       "      <td>NaN</td>\n",
       "      <td>NaN</td>\n",
       "      <td>NaN</td>\n",
       "      <td>NaN</td>\n",
       "      <td>NaN</td>\n",
       "    </tr>\n",
       "    <tr>\n",
       "      <th>1</th>\n",
       "      <td>Community and Cultural Services</td>\n",
       "      <td>Cultural Affairs</td>\n",
       "      <td>Parking</td>\n",
       "      <td>NaN</td>\n",
       "      <td>Parking, Beach, Beach House, Annenberg Beach H...</td>\n",
       "      <td>Annenberg Community Beach House Parking</td>\n",
       "      <td>3.0</td>\n",
       "      <td>NaN</td>\n",
       "      <td>per hour</td>\n",
       "      <td>NaN</td>\n",
       "      <td>...</td>\n",
       "      <td>NaN</td>\n",
       "      <td>Per Resolution No. 10816 (CCS), this fee is no...</td>\n",
       "      <td>Additional information is available at: \\n&lt;a t...</td>\n",
       "      <td>NOTESBHP1 (http://www.smgov.net/Departments/Fi...</td>\n",
       "      <td>2014</td>\n",
       "      <td>NaN</td>\n",
       "      <td>NaN</td>\n",
       "      <td>NaN</td>\n",
       "      <td>NaN</td>\n",
       "      <td>NaN</td>\n",
       "    </tr>\n",
       "    <tr>\n",
       "      <th>2</th>\n",
       "      <td>Community and Cultural Services</td>\n",
       "      <td>Cultural Affairs</td>\n",
       "      <td>Aquatics/Swimming</td>\n",
       "      <td>NaN</td>\n",
       "      <td>pool, swim, swimming, Beach House, beach, Anne...</td>\n",
       "      <td>Annenberg Community Beach House, Pool Day Pass...</td>\n",
       "      <td>10.0</td>\n",
       "      <td>NaN</td>\n",
       "      <td>NaN</td>\n",
       "      <td>NaN</td>\n",
       "      <td>...</td>\n",
       "      <td>NaN</td>\n",
       "      <td>Per Resolution No. 10816 (CCS), this fee is no...</td>\n",
       "      <td>Additional information is available at: \\n&lt;a t...</td>\n",
       "      <td>NOTESBHP1 (http://www.smgov.net/Departments/Fi...</td>\n",
       "      <td>2014</td>\n",
       "      <td>NaN</td>\n",
       "      <td>NaN</td>\n",
       "      <td>NaN</td>\n",
       "      <td>NaN</td>\n",
       "      <td>NaN</td>\n",
       "    </tr>\n",
       "    <tr>\n",
       "      <th>3</th>\n",
       "      <td>Community and Cultural Services</td>\n",
       "      <td>Cultural Affairs</td>\n",
       "      <td>Aquatics/Swimming</td>\n",
       "      <td>NaN</td>\n",
       "      <td>pool, swim, swimming, Beach House, beach, Anne...</td>\n",
       "      <td>Annenberg Community Beach House, Pool Day Pass...</td>\n",
       "      <td>4.0</td>\n",
       "      <td>NaN</td>\n",
       "      <td>NaN</td>\n",
       "      <td>NaN</td>\n",
       "      <td>...</td>\n",
       "      <td>NaN</td>\n",
       "      <td>Per Resolution No. 10816 (CCS), this fee is no...</td>\n",
       "      <td>Additional information is available at: \\n&lt;a t...</td>\n",
       "      <td>NOTESBHP1 (http://www.smgov.net/Departments/Fi...</td>\n",
       "      <td>2014</td>\n",
       "      <td>NaN</td>\n",
       "      <td>NaN</td>\n",
       "      <td>NaN</td>\n",
       "      <td>NaN</td>\n",
       "      <td>NaN</td>\n",
       "    </tr>\n",
       "    <tr>\n",
       "      <th>4</th>\n",
       "      <td>Community and Cultural Services</td>\n",
       "      <td>Cultural Affairs</td>\n",
       "      <td>Aquatics/Swimming</td>\n",
       "      <td>NaN</td>\n",
       "      <td>pool, swim, swimming, Beach House, beach, Anne...</td>\n",
       "      <td>Annenberg Community Beach House, Pool Day Pass...</td>\n",
       "      <td>5.0</td>\n",
       "      <td>NaN</td>\n",
       "      <td>NaN</td>\n",
       "      <td>NaN</td>\n",
       "      <td>...</td>\n",
       "      <td>NaN</td>\n",
       "      <td>Per Resolution No. 10816 (CCS), this fee is no...</td>\n",
       "      <td>Additional information is available at: \\n&lt;a t...</td>\n",
       "      <td>NOTESBHP1 (http://www.smgov.net/Departments/Fi...</td>\n",
       "      <td>2014</td>\n",
       "      <td>NaN</td>\n",
       "      <td>NaN</td>\n",
       "      <td>NaN</td>\n",
       "      <td>NaN</td>\n",
       "      <td>NaN</td>\n",
       "    </tr>\n",
       "  </tbody>\n",
       "</table>\n",
       "<p>5 rows × 22 columns</p>\n",
       "</div>"
      ],
      "text/plain": [
       "                        Department          Division           Category  \\\n",
       "0  Community and Cultural Services  Cultural Affairs           Parking    \n",
       "1  Community and Cultural Services  Cultural Affairs           Parking    \n",
       "2  Community and Cultural Services  Cultural Affairs  Aquatics/Swimming   \n",
       "3  Community and Cultural Services  Cultural Affairs  Aquatics/Swimming   \n",
       "4  Community and Cultural Services  Cultural Affairs  Aquatics/Swimming   \n",
       "\n",
       "  Activity                                           Keywords  \\\n",
       "0      NaN  Parking, Beach, Beach House, Annenberg Beach H...   \n",
       "1      NaN  Parking, Beach, Beach House, Annenberg Beach H...   \n",
       "2      NaN  pool, swim, swimming, Beach House, beach, Anne...   \n",
       "3      NaN  pool, swim, swimming, Beach House, beach, Anne...   \n",
       "4      NaN  pool, swim, swimming, Beach House, beach, Anne...   \n",
       "\n",
       "                              Fee Name / Description   Fee Fee - Other  \\\n",
       "0           Annenberg Community Beach House Parking   12.0         NaN   \n",
       "1           Annenberg Community Beach House Parking    3.0         NaN   \n",
       "2  Annenberg Community Beach House, Pool Day Pass...  10.0         NaN   \n",
       "3  Annenberg Community Beach House, Pool Day Pass...   4.0         NaN   \n",
       "4  Annenberg Community Beach House, Pool Day Pass...   5.0         NaN   \n",
       "\n",
       "       Unit  Additional Fee   ... Rate Tier  \\\n",
       "0   per day              NaN  ...       NaN   \n",
       "1  per hour              NaN  ...       NaN   \n",
       "2       NaN              NaN  ...       NaN   \n",
       "3       NaN              NaN  ...       NaN   \n",
       "4       NaN              NaN  ...       NaN   \n",
       "\n",
       "                                            Comments  \\\n",
       "0  Parking ranges from $8-12, depending on season...   \n",
       "1  Per Resolution No. 10816 (CCS), this fee is no...   \n",
       "2  Per Resolution No. 10816 (CCS), this fee is no...   \n",
       "3  Per Resolution No. 10816 (CCS), this fee is no...   \n",
       "4  Per Resolution No. 10816 (CCS), this fee is no...   \n",
       "\n",
       "                                       External Link  \\\n",
       "0  Additional information is available at: \\n<a t...   \n",
       "1  Additional information is available at: \\n<a t...   \n",
       "2  Additional information is available at: \\n<a t...   \n",
       "3  Additional information is available at: \\n<a t...   \n",
       "4  Additional information is available at: \\n<a t...   \n",
       "\n",
       "                                               Notes  year  \\\n",
       "0  NOTESBHP1 (http://www.smgov.net/Departments/Fi...  2014   \n",
       "1  NOTESBHP1 (http://www.smgov.net/Departments/Fi...  2014   \n",
       "2  NOTESBHP1 (http://www.smgov.net/Departments/Fi...  2014   \n",
       "3  NOTESBHP1 (http://www.smgov.net/Departments/Fi...  2014   \n",
       "4  NOTESBHP1 (http://www.smgov.net/Departments/Fi...  2014   \n",
       "\n",
       "  Fee Name/Description  Fee  -  Other External Link(s) Additional Fee FEE  \n",
       "0                  NaN            NaN              NaN            NaN NaN  \n",
       "1                  NaN            NaN              NaN            NaN NaN  \n",
       "2                  NaN            NaN              NaN            NaN NaN  \n",
       "3                  NaN            NaN              NaN            NaN NaN  \n",
       "4                  NaN            NaN              NaN            NaN NaN  \n",
       "\n",
       "[5 rows x 22 columns]"
      ]
     },
     "execution_count": 92,
     "metadata": {},
     "output_type": "execute_result"
    }
   ],
   "source": [
    "fees_all_years_pdf.head()"
   ]
  },
  {
   "cell_type": "code",
   "execution_count": 99,
   "metadata": {},
   "outputs": [
    {
     "data": {
      "text/html": [
       "<div>\n",
       "<style scoped>\n",
       "    .dataframe tbody tr th:only-of-type {\n",
       "        vertical-align: middle;\n",
       "    }\n",
       "\n",
       "    .dataframe tbody tr th {\n",
       "        vertical-align: top;\n",
       "    }\n",
       "\n",
       "    .dataframe thead th {\n",
       "        text-align: right;\n",
       "    }\n",
       "</style>\n",
       "<table border=\"1\" class=\"dataframe\">\n",
       "  <thead>\n",
       "    <tr style=\"text-align: right;\">\n",
       "      <th></th>\n",
       "      <th>Department</th>\n",
       "      <th>Division</th>\n",
       "      <th>Category</th>\n",
       "      <th>Activity</th>\n",
       "      <th>Keywords</th>\n",
       "      <th>Fee Name / Description</th>\n",
       "      <th>Fee</th>\n",
       "      <th>Fee - Other</th>\n",
       "      <th>Unit</th>\n",
       "      <th>Additional Fee</th>\n",
       "      <th>...</th>\n",
       "      <th>Rate Tier</th>\n",
       "      <th>Comments</th>\n",
       "      <th>External Link</th>\n",
       "      <th>Notes</th>\n",
       "      <th>year</th>\n",
       "      <th>Fee Name/Description</th>\n",
       "      <th>Fee  -  Other</th>\n",
       "      <th>External Link(s)</th>\n",
       "      <th>Additional Fee</th>\n",
       "      <th>FEE</th>\n",
       "    </tr>\n",
       "  </thead>\n",
       "  <tbody>\n",
       "    <tr>\n",
       "      <th>0</th>\n",
       "      <td>Community and Cultural Services</td>\n",
       "      <td>Cultural Affairs</td>\n",
       "      <td>Parking</td>\n",
       "      <td>NaN</td>\n",
       "      <td>Parking, Beach, Beach House, Annenberg Beach H...</td>\n",
       "      <td>Annenberg Community Beach House Parking</td>\n",
       "      <td>12.0</td>\n",
       "      <td>NaN</td>\n",
       "      <td>per day</td>\n",
       "      <td>NaN</td>\n",
       "      <td>...</td>\n",
       "      <td>NaN</td>\n",
       "      <td>Parking ranges from $8-12, depending on season...</td>\n",
       "      <td>Additional information is available at: \\n&lt;a t...</td>\n",
       "      <td>NOTESBHP1 (http://www.smgov.net/Departments/Fi...</td>\n",
       "      <td>2014</td>\n",
       "      <td>NaN</td>\n",
       "      <td>NaN</td>\n",
       "      <td>NaN</td>\n",
       "      <td>NaN</td>\n",
       "      <td>NaN</td>\n",
       "    </tr>\n",
       "  </tbody>\n",
       "</table>\n",
       "<p>1 rows × 22 columns</p>\n",
       "</div>"
      ],
      "text/plain": [
       "                        Department          Division  Category Activity  \\\n",
       "0  Community and Cultural Services  Cultural Affairs  Parking       NaN   \n",
       "\n",
       "                                            Keywords  \\\n",
       "0  Parking, Beach, Beach House, Annenberg Beach H...   \n",
       "\n",
       "                     Fee Name / Description   Fee Fee - Other     Unit  \\\n",
       "0  Annenberg Community Beach House Parking   12.0         NaN  per day   \n",
       "\n",
       "   Additional Fee   ... Rate Tier  \\\n",
       "0              NaN  ...       NaN   \n",
       "\n",
       "                                            Comments  \\\n",
       "0  Parking ranges from $8-12, depending on season...   \n",
       "\n",
       "                                       External Link  \\\n",
       "0  Additional information is available at: \\n<a t...   \n",
       "\n",
       "                                               Notes  year  \\\n",
       "0  NOTESBHP1 (http://www.smgov.net/Departments/Fi...  2014   \n",
       "\n",
       "  Fee Name/Description  Fee  -  Other External Link(s) Additional Fee FEE  \n",
       "0                  NaN            NaN              NaN            NaN NaN  \n",
       "\n",
       "[1 rows x 22 columns]"
      ]
     },
     "execution_count": 99,
     "metadata": {},
     "output_type": "execute_result"
    }
   ],
   "source": [
    "fees_all_years_pdf[fees_all_years_pdf['year']==2014].head(1)"
   ]
  },
  {
   "cell_type": "code",
   "execution_count": 100,
   "metadata": {},
   "outputs": [
    {
     "data": {
      "text/html": [
       "<div>\n",
       "<style scoped>\n",
       "    .dataframe tbody tr th:only-of-type {\n",
       "        vertical-align: middle;\n",
       "    }\n",
       "\n",
       "    .dataframe tbody tr th {\n",
       "        vertical-align: top;\n",
       "    }\n",
       "\n",
       "    .dataframe thead th {\n",
       "        text-align: right;\n",
       "    }\n",
       "</style>\n",
       "<table border=\"1\" class=\"dataframe\">\n",
       "  <thead>\n",
       "    <tr style=\"text-align: right;\">\n",
       "      <th></th>\n",
       "      <th>Department</th>\n",
       "      <th>Division</th>\n",
       "      <th>Category</th>\n",
       "      <th>Activity</th>\n",
       "      <th>Keywords</th>\n",
       "      <th>Fee Name / Description</th>\n",
       "      <th>Fee</th>\n",
       "      <th>Fee - Other</th>\n",
       "      <th>Unit</th>\n",
       "      <th>Additional Fee</th>\n",
       "      <th>...</th>\n",
       "      <th>Rate Tier</th>\n",
       "      <th>Comments</th>\n",
       "      <th>External Link</th>\n",
       "      <th>Notes</th>\n",
       "      <th>year</th>\n",
       "      <th>Fee Name/Description</th>\n",
       "      <th>Fee  -  Other</th>\n",
       "      <th>External Link(s)</th>\n",
       "      <th>Additional Fee</th>\n",
       "      <th>FEE</th>\n",
       "    </tr>\n",
       "  </thead>\n",
       "  <tbody>\n",
       "    <tr>\n",
       "      <th>0</th>\n",
       "      <td>Planning and Community Development</td>\n",
       "      <td>Code Compliance</td>\n",
       "      <td>Permits</td>\n",
       "      <td>NaN</td>\n",
       "      <td>Tenant, Protection, Construction</td>\n",
       "      <td>NaN</td>\n",
       "      <td>253.64</td>\n",
       "      <td>NaN</td>\n",
       "      <td>NaN</td>\n",
       "      <td>NaN</td>\n",
       "      <td>...</td>\n",
       "      <td>NaN</td>\n",
       "      <td>NaN</td>\n",
       "      <td>NaN</td>\n",
       "      <td>NaN</td>\n",
       "      <td>2015</td>\n",
       "      <td>Tenant Protection During Construction</td>\n",
       "      <td>NaN</td>\n",
       "      <td>NaN</td>\n",
       "      <td>NaN</td>\n",
       "      <td>NaN</td>\n",
       "    </tr>\n",
       "  </tbody>\n",
       "</table>\n",
       "<p>1 rows × 22 columns</p>\n",
       "</div>"
      ],
      "text/plain": [
       "                           Department         Division Category Activity  \\\n",
       "0  Planning and Community Development  Code Compliance  Permits      NaN   \n",
       "\n",
       "                           Keywords Fee Name / Description     Fee  \\\n",
       "0  Tenant, Protection, Construction                    NaN  253.64   \n",
       "\n",
       "  Fee - Other Unit  Additional Fee   ... Rate Tier Comments External Link  \\\n",
       "0         NaN  NaN              NaN  ...       NaN      NaN           NaN   \n",
       "\n",
       "  Notes  year                   Fee Name/Description  Fee  -  Other  \\\n",
       "0   NaN  2015  Tenant Protection During Construction            NaN   \n",
       "\n",
       "  External Link(s) Additional Fee FEE  \n",
       "0              NaN            NaN NaN  \n",
       "\n",
       "[1 rows x 22 columns]"
      ]
     },
     "execution_count": 100,
     "metadata": {},
     "output_type": "execute_result"
    }
   ],
   "source": [
    "fees_all_years_pdf[fees_all_years_pdf['year']==2015].head(1)"
   ]
  },
  {
   "cell_type": "code",
   "execution_count": 98,
   "metadata": {},
   "outputs": [
    {
     "data": {
      "text/html": [
       "<div>\n",
       "<style scoped>\n",
       "    .dataframe tbody tr th:only-of-type {\n",
       "        vertical-align: middle;\n",
       "    }\n",
       "\n",
       "    .dataframe tbody tr th {\n",
       "        vertical-align: top;\n",
       "    }\n",
       "\n",
       "    .dataframe thead th {\n",
       "        text-align: right;\n",
       "    }\n",
       "</style>\n",
       "<table border=\"1\" class=\"dataframe\">\n",
       "  <thead>\n",
       "    <tr style=\"text-align: right;\">\n",
       "      <th></th>\n",
       "      <th>Department</th>\n",
       "      <th>Division</th>\n",
       "      <th>Category</th>\n",
       "      <th>Activity</th>\n",
       "      <th>Keywords</th>\n",
       "      <th>Fee Name / Description</th>\n",
       "      <th>Fee</th>\n",
       "      <th>Fee - Other</th>\n",
       "      <th>Unit</th>\n",
       "      <th>Additional Fee</th>\n",
       "      <th>...</th>\n",
       "      <th>Rate Tier</th>\n",
       "      <th>Comments</th>\n",
       "      <th>External Link</th>\n",
       "      <th>Notes</th>\n",
       "      <th>year</th>\n",
       "      <th>Fee Name/Description</th>\n",
       "      <th>Fee  -  Other</th>\n",
       "      <th>External Link(s)</th>\n",
       "      <th>Additional Fee</th>\n",
       "      <th>FEE</th>\n",
       "    </tr>\n",
       "  </thead>\n",
       "  <tbody>\n",
       "    <tr>\n",
       "      <th>0</th>\n",
       "      <td>Community and Cultural Services</td>\n",
       "      <td>Cultural Affairs</td>\n",
       "      <td>Parking</td>\n",
       "      <td>NaN</td>\n",
       "      <td>Parking, Beach, Beach House, Annenberg Beach H...</td>\n",
       "      <td>NaN</td>\n",
       "      <td>12.0</td>\n",
       "      <td>NaN</td>\n",
       "      <td>per day</td>\n",
       "      <td>NaN</td>\n",
       "      <td>...</td>\n",
       "      <td>NaN</td>\n",
       "      <td>Parking ranges from $8-12, depending on season...</td>\n",
       "      <td>NaN</td>\n",
       "      <td>&lt;a href=\"http://finance.smgov.net/fees-taxes/b...</td>\n",
       "      <td>2016</td>\n",
       "      <td>Annenberg Community Beach House Parking</td>\n",
       "      <td>NaN</td>\n",
       "      <td>Additional information is available at: \\n&lt;a h...</td>\n",
       "      <td>NaN</td>\n",
       "      <td>NaN</td>\n",
       "    </tr>\n",
       "  </tbody>\n",
       "</table>\n",
       "<p>1 rows × 22 columns</p>\n",
       "</div>"
      ],
      "text/plain": [
       "                        Department          Division  Category Activity  \\\n",
       "0  Community and Cultural Services  Cultural Affairs  Parking       NaN   \n",
       "\n",
       "                                            Keywords Fee Name / Description  \\\n",
       "0  Parking, Beach, Beach House, Annenberg Beach H...                    NaN   \n",
       "\n",
       "    Fee Fee - Other     Unit  Additional Fee   ... Rate Tier  \\\n",
       "0  12.0         NaN  per day              NaN  ...       NaN   \n",
       "\n",
       "                                            Comments External Link  \\\n",
       "0  Parking ranges from $8-12, depending on season...           NaN   \n",
       "\n",
       "                                               Notes  year  \\\n",
       "0  <a href=\"http://finance.smgov.net/fees-taxes/b...  2016   \n",
       "\n",
       "                       Fee Name/Description  Fee  -  Other  \\\n",
       "0  Annenberg Community Beach House Parking             NaN   \n",
       "\n",
       "                                    External Link(s) Additional Fee FEE  \n",
       "0  Additional information is available at: \\n<a h...            NaN NaN  \n",
       "\n",
       "[1 rows x 22 columns]"
      ]
     },
     "execution_count": 98,
     "metadata": {},
     "output_type": "execute_result"
    }
   ],
   "source": [
    "fees_all_years_pdf[fees_all_years_pdf['year']==2016].head(1)"
   ]
  },
  {
   "cell_type": "code",
   "execution_count": 94,
   "metadata": {},
   "outputs": [
    {
     "data": {
      "text/plain": [
       "Index(['Department', 'Division', 'Category', 'Activity', 'Keywords',\n",
       "       'Fee Name / Description', 'Fee', 'Fee - Other', 'Unit',\n",
       "       'Additional Fee ', 'Additional Fee Unit', 'Deposit', 'Rate Tier',\n",
       "       'Comments', 'External Link', 'Notes', 'year', 'Fee Name/Description',\n",
       "       'Fee  -  Other', 'External Link(s)', 'Additional Fee', 'FEE'],\n",
       "      dtype='object')"
      ]
     },
     "execution_count": 94,
     "metadata": {},
     "output_type": "execute_result"
    }
   ],
   "source": [
    "fees_all_years_pdf.columns.unique()"
   ]
  },
  {
   "cell_type": "markdown",
   "metadata": {},
   "source": [
    "- Looks like the column named `Fee Name / Description` changed to `Fee Name/Description` after 2014."
   ]
  },
  {
   "cell_type": "markdown",
   "metadata": {},
   "source": [
    "Coalesce the columns whose name changed\n",
    "https://pandas.pydata.org/docs/reference/api/pandas.DataFrame.combine_first.html\n",
    "\n",
    "And drop the old columns\n",
    "https://pandas.pydata.org/docs/reference/api/pandas.DataFrame.drop.html"
   ]
  },
  {
   "cell_type": "code",
   "execution_count": 134,
   "metadata": {},
   "outputs": [
    {
     "data": {
      "text/html": [
       "<div>\n",
       "<style scoped>\n",
       "    .dataframe tbody tr th:only-of-type {\n",
       "        vertical-align: middle;\n",
       "    }\n",
       "\n",
       "    .dataframe tbody tr th {\n",
       "        vertical-align: top;\n",
       "    }\n",
       "\n",
       "    .dataframe thead th {\n",
       "        text-align: right;\n",
       "    }\n",
       "</style>\n",
       "<table border=\"1\" class=\"dataframe\">\n",
       "  <thead>\n",
       "    <tr style=\"text-align: right;\">\n",
       "      <th></th>\n",
       "      <th>Department</th>\n",
       "      <th>Division</th>\n",
       "      <th>Category</th>\n",
       "      <th>Activity</th>\n",
       "      <th>Keywords</th>\n",
       "      <th>Fee</th>\n",
       "      <th>Fee - Other</th>\n",
       "      <th>Unit</th>\n",
       "      <th>Additional Fee</th>\n",
       "      <th>Additional Fee Unit</th>\n",
       "      <th>...</th>\n",
       "      <th>Rate Tier</th>\n",
       "      <th>Comments</th>\n",
       "      <th>External Link</th>\n",
       "      <th>Notes</th>\n",
       "      <th>year</th>\n",
       "      <th>Fee  -  Other</th>\n",
       "      <th>External Link(s)</th>\n",
       "      <th>Additional Fee</th>\n",
       "      <th>FEE</th>\n",
       "      <th>fee_name</th>\n",
       "    </tr>\n",
       "  </thead>\n",
       "  <tbody>\n",
       "    <tr>\n",
       "      <th>0</th>\n",
       "      <td>Community and Cultural Services</td>\n",
       "      <td>Cultural Affairs</td>\n",
       "      <td>Parking</td>\n",
       "      <td>NaN</td>\n",
       "      <td>Parking, Beach, Beach House, Annenberg Beach H...</td>\n",
       "      <td>12.0</td>\n",
       "      <td>NaN</td>\n",
       "      <td>per day</td>\n",
       "      <td>NaN</td>\n",
       "      <td>NaN</td>\n",
       "      <td>...</td>\n",
       "      <td>NaN</td>\n",
       "      <td>Parking ranges from $8-12, depending on season...</td>\n",
       "      <td>Additional information is available at: \\n&lt;a t...</td>\n",
       "      <td>NOTESBHP1 (http://www.smgov.net/Departments/Fi...</td>\n",
       "      <td>2014</td>\n",
       "      <td>NaN</td>\n",
       "      <td>NaN</td>\n",
       "      <td>NaN</td>\n",
       "      <td>NaN</td>\n",
       "      <td>Annenberg Community Beach House Parking</td>\n",
       "    </tr>\n",
       "    <tr>\n",
       "      <th>1</th>\n",
       "      <td>Community and Cultural Services</td>\n",
       "      <td>Cultural Affairs</td>\n",
       "      <td>Parking</td>\n",
       "      <td>NaN</td>\n",
       "      <td>Parking, Beach, Beach House, Annenberg Beach H...</td>\n",
       "      <td>3.0</td>\n",
       "      <td>NaN</td>\n",
       "      <td>per hour</td>\n",
       "      <td>NaN</td>\n",
       "      <td>NaN</td>\n",
       "      <td>...</td>\n",
       "      <td>NaN</td>\n",
       "      <td>Per Resolution No. 10816 (CCS), this fee is no...</td>\n",
       "      <td>Additional information is available at: \\n&lt;a t...</td>\n",
       "      <td>NOTESBHP1 (http://www.smgov.net/Departments/Fi...</td>\n",
       "      <td>2014</td>\n",
       "      <td>NaN</td>\n",
       "      <td>NaN</td>\n",
       "      <td>NaN</td>\n",
       "      <td>NaN</td>\n",
       "      <td>Annenberg Community Beach House Parking</td>\n",
       "    </tr>\n",
       "    <tr>\n",
       "      <th>2</th>\n",
       "      <td>Community and Cultural Services</td>\n",
       "      <td>Cultural Affairs</td>\n",
       "      <td>Aquatics/Swimming</td>\n",
       "      <td>NaN</td>\n",
       "      <td>pool, swim, swimming, Beach House, beach, Anne...</td>\n",
       "      <td>10.0</td>\n",
       "      <td>NaN</td>\n",
       "      <td>NaN</td>\n",
       "      <td>NaN</td>\n",
       "      <td>NaN</td>\n",
       "      <td>...</td>\n",
       "      <td>NaN</td>\n",
       "      <td>Per Resolution No. 10816 (CCS), this fee is no...</td>\n",
       "      <td>Additional information is available at: \\n&lt;a t...</td>\n",
       "      <td>NOTESBHP1 (http://www.smgov.net/Departments/Fi...</td>\n",
       "      <td>2014</td>\n",
       "      <td>NaN</td>\n",
       "      <td>NaN</td>\n",
       "      <td>NaN</td>\n",
       "      <td>NaN</td>\n",
       "      <td>Annenberg Community Beach House, Pool Day Pass...</td>\n",
       "    </tr>\n",
       "    <tr>\n",
       "      <th>3</th>\n",
       "      <td>Community and Cultural Services</td>\n",
       "      <td>Cultural Affairs</td>\n",
       "      <td>Aquatics/Swimming</td>\n",
       "      <td>NaN</td>\n",
       "      <td>pool, swim, swimming, Beach House, beach, Anne...</td>\n",
       "      <td>4.0</td>\n",
       "      <td>NaN</td>\n",
       "      <td>NaN</td>\n",
       "      <td>NaN</td>\n",
       "      <td>NaN</td>\n",
       "      <td>...</td>\n",
       "      <td>NaN</td>\n",
       "      <td>Per Resolution No. 10816 (CCS), this fee is no...</td>\n",
       "      <td>Additional information is available at: \\n&lt;a t...</td>\n",
       "      <td>NOTESBHP1 (http://www.smgov.net/Departments/Fi...</td>\n",
       "      <td>2014</td>\n",
       "      <td>NaN</td>\n",
       "      <td>NaN</td>\n",
       "      <td>NaN</td>\n",
       "      <td>NaN</td>\n",
       "      <td>Annenberg Community Beach House, Pool Day Pass...</td>\n",
       "    </tr>\n",
       "    <tr>\n",
       "      <th>4</th>\n",
       "      <td>Community and Cultural Services</td>\n",
       "      <td>Cultural Affairs</td>\n",
       "      <td>Aquatics/Swimming</td>\n",
       "      <td>NaN</td>\n",
       "      <td>pool, swim, swimming, Beach House, beach, Anne...</td>\n",
       "      <td>5.0</td>\n",
       "      <td>NaN</td>\n",
       "      <td>NaN</td>\n",
       "      <td>NaN</td>\n",
       "      <td>NaN</td>\n",
       "      <td>...</td>\n",
       "      <td>NaN</td>\n",
       "      <td>Per Resolution No. 10816 (CCS), this fee is no...</td>\n",
       "      <td>Additional information is available at: \\n&lt;a t...</td>\n",
       "      <td>NOTESBHP1 (http://www.smgov.net/Departments/Fi...</td>\n",
       "      <td>2014</td>\n",
       "      <td>NaN</td>\n",
       "      <td>NaN</td>\n",
       "      <td>NaN</td>\n",
       "      <td>NaN</td>\n",
       "      <td>Annenberg Community Beach House, Pool Day Pass...</td>\n",
       "    </tr>\n",
       "  </tbody>\n",
       "</table>\n",
       "<p>5 rows × 21 columns</p>\n",
       "</div>"
      ],
      "text/plain": [
       "                        Department          Division           Category  \\\n",
       "0  Community and Cultural Services  Cultural Affairs           Parking    \n",
       "1  Community and Cultural Services  Cultural Affairs           Parking    \n",
       "2  Community and Cultural Services  Cultural Affairs  Aquatics/Swimming   \n",
       "3  Community and Cultural Services  Cultural Affairs  Aquatics/Swimming   \n",
       "4  Community and Cultural Services  Cultural Affairs  Aquatics/Swimming   \n",
       "\n",
       "  Activity                                           Keywords   Fee  \\\n",
       "0      NaN  Parking, Beach, Beach House, Annenberg Beach H...  12.0   \n",
       "1      NaN  Parking, Beach, Beach House, Annenberg Beach H...   3.0   \n",
       "2      NaN  pool, swim, swimming, Beach House, beach, Anne...  10.0   \n",
       "3      NaN  pool, swim, swimming, Beach House, beach, Anne...   4.0   \n",
       "4      NaN  pool, swim, swimming, Beach House, beach, Anne...   5.0   \n",
       "\n",
       "  Fee - Other      Unit  Additional Fee  Additional Fee Unit  ... Rate Tier  \\\n",
       "0         NaN   per day              NaN                 NaN  ...       NaN   \n",
       "1         NaN  per hour              NaN                 NaN  ...       NaN   \n",
       "2         NaN       NaN              NaN                 NaN  ...       NaN   \n",
       "3         NaN       NaN              NaN                 NaN  ...       NaN   \n",
       "4         NaN       NaN              NaN                 NaN  ...       NaN   \n",
       "\n",
       "                                            Comments  \\\n",
       "0  Parking ranges from $8-12, depending on season...   \n",
       "1  Per Resolution No. 10816 (CCS), this fee is no...   \n",
       "2  Per Resolution No. 10816 (CCS), this fee is no...   \n",
       "3  Per Resolution No. 10816 (CCS), this fee is no...   \n",
       "4  Per Resolution No. 10816 (CCS), this fee is no...   \n",
       "\n",
       "                                       External Link  \\\n",
       "0  Additional information is available at: \\n<a t...   \n",
       "1  Additional information is available at: \\n<a t...   \n",
       "2  Additional information is available at: \\n<a t...   \n",
       "3  Additional information is available at: \\n<a t...   \n",
       "4  Additional information is available at: \\n<a t...   \n",
       "\n",
       "                                               Notes  year  Fee  -  Other  \\\n",
       "0  NOTESBHP1 (http://www.smgov.net/Departments/Fi...  2014            NaN   \n",
       "1  NOTESBHP1 (http://www.smgov.net/Departments/Fi...  2014            NaN   \n",
       "2  NOTESBHP1 (http://www.smgov.net/Departments/Fi...  2014            NaN   \n",
       "3  NOTESBHP1 (http://www.smgov.net/Departments/Fi...  2014            NaN   \n",
       "4  NOTESBHP1 (http://www.smgov.net/Departments/Fi...  2014            NaN   \n",
       "\n",
       "  External Link(s) Additional Fee FEE  \\\n",
       "0              NaN            NaN NaN   \n",
       "1              NaN            NaN NaN   \n",
       "2              NaN            NaN NaN   \n",
       "3              NaN            NaN NaN   \n",
       "4              NaN            NaN NaN   \n",
       "\n",
       "                                            fee_name  \n",
       "0           Annenberg Community Beach House Parking   \n",
       "1           Annenberg Community Beach House Parking   \n",
       "2  Annenberg Community Beach House, Pool Day Pass...  \n",
       "3  Annenberg Community Beach House, Pool Day Pass...  \n",
       "4  Annenberg Community Beach House, Pool Day Pass...  \n",
       "\n",
       "[5 rows x 21 columns]"
      ]
     },
     "execution_count": 134,
     "metadata": {},
     "output_type": "execute_result"
    }
   ],
   "source": [
    "name1 = 'Fee Name / Description'\n",
    "name2 = 'Fee Name/Description'\n",
    "\n",
    "fees_all_years_pdf['fee_name'] = fees_all_years_pdf[name1].combine_first(fees_all_years_pdf[name2])\n",
    "fees_all_years_pdf.drop([name1, name2],axis=1).head()"
   ]
  },
  {
   "cell_type": "code",
   "execution_count": 101,
   "metadata": {},
   "outputs": [
    {
     "data": {
      "text/plain": [
       "array(['Cultural Affairs', 'Code Compliance', 'Building and Safety',\n",
       "       'Cemetery', 'Water', 'Civil Engineering', 'Community Recreation',\n",
       "       'City Planning/Development Review',\n",
       "       'Transportation Planning and Engineering',\n",
       "       'Community and Cultural Services',\n",
       "       'Transportation Engineering and Management',\n",
       "       'Resource Recovery & Recycling', 'Street Services', 'Airport',\n",
       "       'Administration', 'Public Landscape', 'Fire', 'Police',\n",
       "       'Animal Control Section', 'Records and Election Services',\n",
       "       'Finance', 'Office of Sustainability and the Environment',\n",
       "       'Library', 'Human Services', 'Pier Management', 'Big Blue Bus',\n",
       "       'Strategic and Transportation Planning',\n",
       "       'Mobility and Traffic Management', 'City TV', 'Parking Operations',\n",
       "       'Cultural Affairs - Beach House', nan,\n",
       "       'City Plannning Planning/Development Review', 'City Planning',\n",
       "       'Mobility', 'City Planning Planning/Development Review'],\n",
       "      dtype=object)"
      ]
     },
     "execution_count": 101,
     "metadata": {},
     "output_type": "execute_result"
    }
   ],
   "source": [
    "fees_all_years_pdf['Division'].unique()"
   ]
  },
  {
   "cell_type": "code",
   "execution_count": 152,
   "metadata": {},
   "outputs": [
    {
     "data": {
      "text/html": [
       "<div>\n",
       "<style scoped>\n",
       "    .dataframe tbody tr th:only-of-type {\n",
       "        vertical-align: middle;\n",
       "    }\n",
       "\n",
       "    .dataframe tbody tr th {\n",
       "        vertical-align: top;\n",
       "    }\n",
       "\n",
       "    .dataframe thead th {\n",
       "        text-align: right;\n",
       "    }\n",
       "</style>\n",
       "<table border=\"1\" class=\"dataframe\">\n",
       "  <thead>\n",
       "    <tr style=\"text-align: right;\">\n",
       "      <th></th>\n",
       "      <th>year</th>\n",
       "      <th>Fee</th>\n",
       "    </tr>\n",
       "  </thead>\n",
       "  <tbody>\n",
       "    <tr>\n",
       "      <th>149</th>\n",
       "      <td>2014</td>\n",
       "      <td>55.0</td>\n",
       "    </tr>\n",
       "    <tr>\n",
       "      <th>1183</th>\n",
       "      <td>2015</td>\n",
       "      <td>55.0</td>\n",
       "    </tr>\n",
       "    <tr>\n",
       "      <th>150</th>\n",
       "      <td>2016</td>\n",
       "      <td>55.0</td>\n",
       "    </tr>\n",
       "    <tr>\n",
       "      <th>172</th>\n",
       "      <td>2017</td>\n",
       "      <td>55.0</td>\n",
       "    </tr>\n",
       "    <tr>\n",
       "      <th>168</th>\n",
       "      <td>2018</td>\n",
       "      <td>55.00</td>\n",
       "    </tr>\n",
       "    <tr>\n",
       "      <th>165</th>\n",
       "      <td>2019</td>\n",
       "      <td>55.00</td>\n",
       "    </tr>\n",
       "    <tr>\n",
       "      <th>1035</th>\n",
       "      <td>2020</td>\n",
       "      <td>NaN</td>\n",
       "    </tr>\n",
       "  </tbody>\n",
       "</table>\n",
       "</div>"
      ],
      "text/plain": [
       "      year    Fee\n",
       "149   2014   55.0\n",
       "1183  2015   55.0\n",
       "150   2016   55.0\n",
       "172   2017   55.0\n",
       "168   2018  55.00\n",
       "165   2019  55.00\n",
       "1035  2020    NaN"
      ]
     },
     "execution_count": 152,
     "metadata": {},
     "output_type": "execute_result"
    }
   ],
   "source": [
    "yearly_swim_pass_fees_pdf = fees_all_years_pdf[fees_all_years_pdf['fee_name'] == 'Community Aquatics\\n - Recreational and Fitness\\n - Swim Pass\\n - Residents - Adult'][['year','Fee']]#.set_index('year')\n",
    "yearly_swim_pass_fees_pdf"
   ]
  },
  {
   "cell_type": "markdown",
   "metadata": {},
   "source": [
    "looks like the fees haven't changed :)\n",
    "\n",
    "If the did, this plot would be much more interesting.  Is there anything which has changed?"
   ]
  },
  {
   "cell_type": "code",
   "execution_count": 153,
   "metadata": {},
   "outputs": [
    {
     "data": {
      "text/plain": [
       "year     int64\n",
       "Fee     object\n",
       "dtype: object"
      ]
     },
     "execution_count": 153,
     "metadata": {},
     "output_type": "execute_result"
    }
   ],
   "source": [
    "yearly_swim_pass_fees_pdf.dtypes"
   ]
  },
  {
   "cell_type": "code",
   "execution_count": 154,
   "metadata": {},
   "outputs": [],
   "source": [
    "yearly_swim_pass_fees_pdf['Fee'] = pd.to_numeric(yearly_swim_pass_fees_pdf['Fee'])"
   ]
  },
  {
   "cell_type": "code",
   "execution_count": 155,
   "metadata": {},
   "outputs": [
    {
     "data": {
      "text/plain": [
       "<AxesSubplot:xlabel='year'>"
      ]
     },
     "execution_count": 155,
     "metadata": {},
     "output_type": "execute_result"
    },
    {
     "data": {
      "image/png": "[encoded data removed]",
      "text/plain": [
       "<Figure size 432x288 with 1 Axes>"
      ]
     },
     "metadata": {
      "needs_background": "light"
     },
     "output_type": "display_data"
    }
   ],
   "source": [
    "yearly_swim_pass_fees_pdf.plot(x='year',y='Fee')"
   ]
  },
  {
   "cell_type": "code",
   "execution_count": 191,
   "metadata": {},
   "outputs": [],
   "source": [
    "yearly_parking_fees_pdf = fees_all_years_pdf[fees_all_years_pdf['fee_name'] == 'Community Event Fees,  Beach parking lot, 1550 PCH lot, Small'][['year','Fee']]"
   ]
  },
  {
   "cell_type": "code",
   "execution_count": 192,
   "metadata": {},
   "outputs": [
    {
     "data": {
      "text/html": [
       "<div>\n",
       "<style scoped>\n",
       "    .dataframe tbody tr th:only-of-type {\n",
       "        vertical-align: middle;\n",
       "    }\n",
       "\n",
       "    .dataframe tbody tr th {\n",
       "        vertical-align: top;\n",
       "    }\n",
       "\n",
       "    .dataframe thead th {\n",
       "        text-align: right;\n",
       "    }\n",
       "</style>\n",
       "<table border=\"1\" class=\"dataframe\">\n",
       "  <thead>\n",
       "    <tr style=\"text-align: right;\">\n",
       "      <th></th>\n",
       "      <th>year</th>\n",
       "      <th>Fee</th>\n",
       "    </tr>\n",
       "  </thead>\n",
       "  <tbody>\n",
       "    <tr>\n",
       "      <th>1482</th>\n",
       "      <td>2014</td>\n",
       "      <td>2068.0</td>\n",
       "    </tr>\n",
       "    <tr>\n",
       "      <th>954</th>\n",
       "      <td>2015</td>\n",
       "      <td>2140.38</td>\n",
       "    </tr>\n",
       "    <tr>\n",
       "      <th>1483</th>\n",
       "      <td>2016</td>\n",
       "      <td>2236.7</td>\n",
       "    </tr>\n",
       "    <tr>\n",
       "      <th>1490</th>\n",
       "      <td>2017</td>\n",
       "      <td>2314.98</td>\n",
       "    </tr>\n",
       "    <tr>\n",
       "      <th>1492</th>\n",
       "      <td>2018</td>\n",
       "      <td>2,416.84</td>\n",
       "    </tr>\n",
       "    <tr>\n",
       "      <th>1470</th>\n",
       "      <td>2019</td>\n",
       "      <td>2518.34</td>\n",
       "    </tr>\n",
       "    <tr>\n",
       "      <th>227</th>\n",
       "      <td>2020</td>\n",
       "      <td>NaN</td>\n",
       "    </tr>\n",
       "  </tbody>\n",
       "</table>\n",
       "</div>"
      ],
      "text/plain": [
       "      year       Fee\n",
       "1482  2014    2068.0\n",
       "954   2015   2140.38\n",
       "1483  2016    2236.7\n",
       "1490  2017   2314.98\n",
       "1492  2018  2,416.84\n",
       "1470  2019   2518.34\n",
       "227   2020       NaN"
      ]
     },
     "execution_count": 192,
     "metadata": {},
     "output_type": "execute_result"
    }
   ],
   "source": [
    "yearly_parking_fees_pdf"
   ]
  },
  {
   "cell_type": "code",
   "execution_count": 195,
   "metadata": {},
   "outputs": [],
   "source": [
    "yearly_parking_fees_pdf['Fee'] = yearly_parking_fees_pdf['Fee'].replace(',','')"
   ]
  },
  {
   "cell_type": "code",
   "execution_count": 196,
   "metadata": {},
   "outputs": [
    {
     "data": {
      "text/plain": [
       "1482     2068.0\n",
       "954     2140.38\n",
       "1483     2236.7\n",
       "1490    2314.98\n",
       "1492    2416.84\n",
       "1470    2518.34\n",
       "227         NaN\n",
       "Name: Fee, dtype: object"
      ]
     },
     "execution_count": 196,
     "metadata": {},
     "output_type": "execute_result"
    }
   ],
   "source": [
    "yearly_parking_fees_pdf['Fee'] "
   ]
  },
  {
   "cell_type": "code",
   "execution_count": 197,
   "metadata": {},
   "outputs": [],
   "source": [
    "yearly_parking_fees_pdf['Fee'] = pd.to_numeric(yearly_parking_fees_pdf['Fee'])"
   ]
  },
  {
   "cell_type": "code",
   "execution_count": 199,
   "metadata": {
    "tags": []
   },
   "outputs": [
    {
     "data": {
      "image/png": "[encoded data removed]",
      "text/plain": [
       "<Figure size 432x288 with 1 Axes>"
      ]
     },
     "metadata": {
      "needs_background": "light"
     },
     "output_type": "display_data"
    }
   ],
   "source": [
    "yearly_parking_fees_pdf.plot(x='year', y='Fee');"
   ]
  },
  {
   "cell_type": "markdown",
   "metadata": {},
   "source": [
    "### OK, so Parking Rates are really going up!\n",
    "### Let's hope some of those parking fees are going to help make parking safer!\n",
    "\n",
    "Remember this from the first pandas lesson?"
   ]
  },
  {
   "cell_type": "markdown",
   "metadata": {},
   "source": [
    "![popular_crimes](./img/popular_crimes.png)"
   ]
  }
 ],
 "metadata": {
  "kernelspec": {
   "display_name": "Python 3 (ipykernel)",
   "language": "python",
   "name": "python3"
  },
  "language_info": {
   "codemirror_mode": {
    "name": "ipython",
    "version": 3
   },
   "file_extension": ".py",
   "mimetype": "text/x-python",
   "name": "python",
   "nbconvert_exporter": "python",
   "pygments_lexer": "ipython3",
   "version": "3.10.2"
  },
  "toc": {
   "base_numbering": 1,
   "nav_menu": {},
   "number_sections": false,
   "sideBar": true,
   "skip_h1_title": false,
   "title_cell": "Table of Contents",
   "title_sidebar": "Contents",
   "toc_cell": true,
   "toc_position": {
    "height": "856.364px",
    "left": "34px",
    "top": "110.284px",
    "width": "177.833px"
   },
   "toc_section_display": true,
   "toc_window_display": true
  }
 },
 "nbformat": 4,
 "nbformat_minor": 4
}
