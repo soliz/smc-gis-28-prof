{
 "cells": [
  {
   "cell_type": "markdown",
   "metadata": {
    "tags": []
   },
   "source": [
    "# Lesson 12 - API Examples - ArcGIS"
   ]
  },
  {
   "cell_type": "markdown",
   "metadata": {
    "tags": []
   },
   "source": [
    "# ArcGIS API for Python\n",
    "\n",
    "APIs do more than fetch data.  You can use them to drive all sorts of behavior in external systems.\n",
    "\n",
    "![api_as_driver](./img/api_as_driver.png)\n",
    "\n",
    "[`https://api-first-world.com/`](https://api-first-world.com/)"
   ]
  },
  {
   "cell_type": "markdown",
   "metadata": {},
   "source": [
    "## `arcgis`\n",
    "\n"
   ]
  },
  {
   "cell_type": "code",
   "execution_count": 1,
   "metadata": {},
   "outputs": [],
   "source": [
    "# !pip install arcgis"
   ]
  },
  {
   "cell_type": "markdown",
   "metadata": {},
   "source": [
    "- **Create a file named: `arcgis_online_config.json` and save it next to this notebook.**  \n",
    "\n",
    "```python\n",
    "{\n",
    "  \"username\": \"YOUR_USERNAME\",\n",
    "  \"password\": \"YOUR_PASSWORD\"\n",
    "}\n",
    "```\n",
    "- **Whatever you do, do not share this file or put it in any repository like github!**\n",
    "- If you're using a git repository, add `arcgis_online_config.json` to your `.gitignore` file!\n"
   ]
  },
  {
   "cell_type": "markdown",
   "metadata": {},
   "source": [
    "#### Let's define this function to make it easy to read `.json` files into a dicitonary"
   ]
  },
  {
   "cell_type": "code",
   "execution_count": 2,
   "metadata": {},
   "outputs": [
    {
     "data": {
      "text/plain": [
       "['arcgis_online_config.json']"
      ]
     },
     "execution_count": 2,
     "metadata": {},
     "output_type": "execute_result"
    }
   ],
   "source": [
    "import glob\n",
    "glob.glob('*.json')"
   ]
  },
  {
   "cell_type": "code",
   "execution_count": 3,
   "metadata": {},
   "outputs": [],
   "source": [
    "import json\n",
    "with open('arcgis_online_config.json') as file:\n",
    "    credentials = json.load(file)"
   ]
  },
  {
   "cell_type": "markdown",
   "metadata": {},
   "source": [
    "#### Let's create variables to authenticate with ArcGIS Online"
   ]
  },
  {
   "cell_type": "code",
   "execution_count": 4,
   "metadata": {},
   "outputs": [],
   "source": [
    "username = credentials['username']\n",
    "password = credentials['password']"
   ]
  },
  {
   "cell_type": "code",
   "execution_count": 5,
   "metadata": {},
   "outputs": [],
   "source": [
    "# ! pip install arcgis --upgrade"
   ]
  },
  {
   "cell_type": "markdown",
   "metadata": {},
   "source": [
    "## `arcgis.gis.GIS`\n",
    "\n",
    "> The GIS class is representative of a single ArcGIS Online organization or an ArcGIS Enterprise deployment. The `GIS` object provides helper objects to manage (search, create, retrieve) GIS resources such as content, users, and groups.\n",
    "\n",
    "[`https://developers.arcgis.com/python/api-reference/arcgis.gis.toc.html#gis`](https://developers.arcgis.com/python/api-reference/arcgis.gis.toc.html#gis)"
   ]
  },
  {
   "cell_type": "code",
   "execution_count": 6,
   "metadata": {},
   "outputs": [],
   "source": [
    "from arcgis.gis import GIS\n",
    "\n",
    "gis = GIS(\"https://www.arcgis.com\", username=username, password=password)"
   ]
  },
  {
   "cell_type": "code",
   "execution_count": 25,
   "metadata": {},
   "outputs": [
    {
     "name": "stdin",
     "output_type": "stream",
     "text": [
      "Enter password:  ·············\n"
     ]
    }
   ],
   "source": [
    "# # Alternative Way to connect to arcgis \n",
    "# gis2 = GIS(username='javi_smc')"
   ]
  },
  {
   "cell_type": "markdown",
   "metadata": {},
   "source": [
    "- Once you have an `GIS` object, you're connected and can drive arcgis directly from python!"
   ]
  },
  {
   "cell_type": "markdown",
   "metadata": {
    "tags": []
   },
   "source": [
    "## `arcgis.gis.GIS.map` \n",
    "> The `map` method creates a map widget centered at the declared location with the specified zoom level. \n",
    "\n",
    "- Instantiates a `arcgis.widgets._mapview._mapview.MapView`\n",
    "[`https://developers.arcgis.com/python/api-reference/arcgis.gis.toc.html#arcgis.gis.GIS.map`](https://developers.arcgis.com/python/api-reference/arcgis.gis.toc.html#arcgis.gis.GIS.map)\n",
    "\n",
    "\n",
    "## `arcgis.widgets.MapView`\n",
    "> The MapView class creates a mapping widget for Jupyter Notebook and JupyterLab.\n",
    "\n",
    "[`https://developers.arcgis.com/python/api-reference/arcgis.widgets.html#arcgis.widgets.MapView`](https://developers.arcgis.com/python/api-reference/arcgis.widgets.html#arcgis.widgets.MapView)"
   ]
  },
  {
   "cell_type": "code",
   "execution_count": 7,
   "metadata": {},
   "outputs": [],
   "source": [
    "sm_map_fiber = gis.map(location='Santa Monica',zoomlevel = 16)"
   ]
  },
  {
   "cell_type": "code",
   "execution_count": 8,
   "metadata": {},
   "outputs": [
    {
     "data": {
      "text/plain": [
       "arcgis.widgets._mapview._mapview.MapView"
      ]
     },
     "execution_count": 8,
     "metadata": {},
     "output_type": "execute_result"
    }
   ],
   "source": [
    "type(sm_map_fiber)"
   ]
  },
  {
   "cell_type": "code",
   "execution_count": 9,
   "metadata": {
    "scrolled": true
   },
   "outputs": [
    {
     "data": {
      "application/vnd.jupyter.widget-view+json": {
       "model_id": "d9019acee5684d2a92495e946f9e1d48",
       "version_major": 2,
       "version_minor": 0
      },
      "text/plain": [
       "MapView(layout=Layout(height='400px', width='100%'))"
      ]
     },
     "metadata": {},
     "output_type": "display_data"
    },
    {
     "data": {
      "text/html": [
       "<div class=\"map-static-img-preview-7ff713a5-ba55-4ec6-a645-bcb1242752ba\"><img src=\"\"></img></div>"
      ],
      "text/plain": [
       "<IPython.core.display.HTML object>"
      ]
     },
     "metadata": {},
     "output_type": "display_data"
    },
    {
     "data": {
      "text/html": [
       "<div class=\"map-html-embed-preview-7ff713a5-ba55-4ec6-a645-bcb1242752ba\"></div>"
      ],
      "text/plain": [
       "<IPython.core.display.HTML object>"
      ]
     },
     "metadata": {},
     "output_type": "display_data"
    }
   ],
   "source": [
    "sm_map_fiber"
   ]
  },
  {
   "cell_type": "markdown",
   "metadata": {},
   "source": [
    "## Add a layer to the map"
   ]
  },
  {
   "cell_type": "markdown",
   "metadata": {},
   "source": [
    "Fiber optic lines around Santa Monica, CA\n",
    "\n",
    "- https://gisdata.santamonica.gov/maps/smgov::citynet-1/about\n",
    "- https://www.arcgis.com/home/item.html?id=7d008035e9804e9d9abc620bd9f0d7d3\n",
    "- https://gis.santamonica.gov/server/rest/services/CityNet/FeatureServer"
   ]
  },
  {
   "cell_type": "code",
   "execution_count": 10,
   "metadata": {
    "scrolled": true
   },
   "outputs": [
    {
     "data": {
      "application/vnd.jupyter.widget-view+json": {
       "model_id": "d9019acee5684d2a92495e946f9e1d48",
       "version_major": 2,
       "version_minor": 0
      },
      "text/plain": [
       "MapView(jupyter_target='notebook', layout=Layout(height='400px', width='100%'), ready=True)"
      ]
     },
     "metadata": {},
     "output_type": "display_data"
    },
    {
     "data": {
      "text/html": [
       "<div class=\"map-static-img-preview-7ff713a5-ba55-4ec6-a645-bcb1242752ba\"><img src=\"\"></img></div>"
      ],
      "text/plain": [
       "<IPython.core.display.HTML object>"
      ]
     },
     "metadata": {},
     "output_type": "display_data"
    },
    {
     "data": {
      "text/html": [
       "<div class=\"map-html-embed-preview-7ff713a5-ba55-4ec6-a645-bcb1242752ba\"></div>"
      ],
      "text/plain": [
       "<IPython.core.display.HTML object>"
      ]
     },
     "metadata": {},
     "output_type": "display_data"
    }
   ],
   "source": [
    "sm_map_fiber.add_layer(\n",
    "    {\n",
    "        \"type\":\"FeatureLayer\", \n",
    "         \"url\":\"https://gis.santamonica.gov/server/rest/services/CityNet/FeatureServer/1\",\n",
    "    }\n",
    ")\n",
    "\n",
    "sm_map_fiber"
   ]
  },
  {
   "cell_type": "markdown",
   "metadata": {},
   "source": [
    "Different kinds of bike paths around Santa Monica, CA\n",
    "\n",
    "- https://gis.santamonica.gov/server/rest/services/\n",
    "- https://gis.santamonica.gov/server/rest/services/Bike_Network/FeatureServer"
   ]
  },
  {
   "cell_type": "code",
   "execution_count": 11,
   "metadata": {
    "scrolled": true
   },
   "outputs": [
    {
     "data": {
      "application/vnd.jupyter.widget-view+json": {
       "model_id": "998ca42b617a440885999b73d765fd6b",
       "version_major": 2,
       "version_minor": 0
      },
      "text/plain": [
       "MapView(layout=Layout(height='400px', width='100%'))"
      ]
     },
     "metadata": {},
     "output_type": "display_data"
    },
    {
     "data": {
      "text/html": [
       "<div class=\"map-static-img-preview-b5437514-80fd-41fe-990b-2d1cc0a9e084\"><img src=\"\"></img></div>"
      ],
      "text/plain": [
       "<IPython.core.display.HTML object>"
      ]
     },
     "metadata": {},
     "output_type": "display_data"
    },
    {
     "data": {
      "text/html": [
       "<div class=\"map-html-embed-preview-b5437514-80fd-41fe-990b-2d1cc0a9e084\"></div>"
      ],
      "text/plain": [
       "<IPython.core.display.HTML object>"
      ]
     },
     "metadata": {},
     "output_type": "display_data"
    }
   ],
   "source": [
    "sm_map_bikes = gis.map(location='Santa Monica',zoomlevel = 17)\n",
    "sm_map_bikes"
   ]
  },
  {
   "cell_type": "code",
   "execution_count": 12,
   "metadata": {
    "scrolled": false
   },
   "outputs": [
    {
     "data": {
      "application/vnd.jupyter.widget-view+json": {
       "model_id": "998ca42b617a440885999b73d765fd6b",
       "version_major": 2,
       "version_minor": 0
      },
      "text/plain": [
       "MapView(jupyter_target='notebook', layout=Layout(height='400px', width='100%'), ready=True)"
      ]
     },
     "metadata": {},
     "output_type": "display_data"
    },
    {
     "data": {
      "text/html": [
       "<div class=\"map-static-img-preview-b5437514-80fd-41fe-990b-2d1cc0a9e084\"><img src=\"\"></img></div>"
      ],
      "text/plain": [
       "<IPython.core.display.HTML object>"
      ]
     },
     "metadata": {},
     "output_type": "display_data"
    },
    {
     "data": {
      "text/html": [
       "<div class=\"map-html-embed-preview-b5437514-80fd-41fe-990b-2d1cc0a9e084\"></div>"
      ],
      "text/plain": [
       "<IPython.core.display.HTML object>"
      ]
     },
     "metadata": {},
     "output_type": "display_data"
    }
   ],
   "source": [
    "sm_map_bikes.add_layer(\n",
    "    {\n",
    "        \"type\":\"FeatureLayer\", \n",
    "         \"url\":\"https://gis.santamonica.gov/server/rest/services/Bike_Network/FeatureServer/0\",\n",
    "    }\n",
    ")\n",
    "\n",
    "sm_map_bikes"
   ]
  },
  {
   "cell_type": "markdown",
   "metadata": {},
   "source": [
    "# Interacting with an ArcGIS account\n",
    "### My Content Page before uploading data"
   ]
  },
  {
   "cell_type": "markdown",
   "metadata": {},
   "source": [
    "![before_upload](./img/arcgis_content_before.png)"
   ]
  },
  {
   "cell_type": "code",
   "execution_count": 23,
   "metadata": {},
   "outputs": [],
   "source": [
    "file_location = 'data/tl_2019_06_tract.zip' # California Tracts from an earlier notebook (12)"
   ]
  },
  {
   "cell_type": "markdown",
   "metadata": {},
   "source": [
    "#### Choose some metadata for your file"
   ]
  },
  {
   "cell_type": "code",
   "execution_count": 24,
   "metadata": {},
   "outputs": [],
   "source": [
    "item_properties = {\n",
    "    'title': 'California Census Tracts 2019',\n",
    "    'tags': 'census, tracts',\n",
    "    'type': 'Shapefile'\n",
    "}"
   ]
  },
  {
   "cell_type": "markdown",
   "metadata": {},
   "source": [
    "## Upload to ArcGis using `arcgis.content.add()`\n",
    "_(give it a little time to upload)_"
   ]
  },
  {
   "cell_type": "code",
   "execution_count": 25,
   "metadata": {},
   "outputs": [],
   "source": [
    "layer = gis.content.add(item_properties, file_location)"
   ]
  },
  {
   "cell_type": "markdown",
   "metadata": {},
   "source": [
    "### Now check your arcgis account again:\n",
    "\n",
    "![after_upload](./img/arcgis_content_after_2019.png)"
   ]
  },
  {
   "cell_type": "markdown",
   "metadata": {},
   "source": [
    "#### In your notebook this object of type `arcgis.gis.Item` displays with a nice little card"
   ]
  },
  {
   "cell_type": "code",
   "execution_count": 26,
   "metadata": {},
   "outputs": [
    {
     "data": {
      "text/plain": [
       "arcgis.gis.Item"
      ]
     },
     "execution_count": 26,
     "metadata": {},
     "output_type": "execute_result"
    }
   ],
   "source": [
    "type(layer)"
   ]
  },
  {
   "cell_type": "code",
   "execution_count": 27,
   "metadata": {},
   "outputs": [
    {
     "data": {
      "text/html": [
       "<div class=\"item_container\" style=\"height: auto; overflow: hidden; border: 1px solid #cfcfcf; border-radius: 2px; background: #f6fafa; line-height: 1.21429em; padding: 10px;\">\n",
       "                    <div class=\"item_left\" style=\"width: 210px; float: left;\">\n",
       "                       <a href='https://smcollege.maps.arcgis.com/home/item.html?id=35abb7cd9dfd479ab3867e0884ecd278' target='_blank'>\n",
       "                        <img src='http://static.arcgis.com/images/desktopapp.png' class=\"itemThumbnail\">\n",
       "                       </a>\n",
       "                    </div>\n",
       "\n",
       "                    <div class=\"item_right\"     style=\"float: none; width: auto; overflow: hidden;\">\n",
       "                        <a href='https://smcollege.maps.arcgis.com/home/item.html?id=35abb7cd9dfd479ab3867e0884ecd278' target='_blank'><b>California Census Tracts 2019</b>\n",
       "                        </a>\n",
       "                        <br/><img src='https://smcollege.maps.arcgis.com/home/js/jsapi/esri/css/images/item_type_icons/datafiles16.png' style=\"vertical-align:middle;\">Shapefile by javi_smc\n",
       "                        <br/>Last Modified: April 23, 2022\n",
       "                        <br/>0 comments, 0 views\n",
       "                    </div>\n",
       "                </div>\n",
       "                "
      ],
      "text/plain": [
       "<Item title:\"California Census Tracts 2019\" type:Shapefile owner:javi_smc>"
      ]
     },
     "execution_count": 27,
     "metadata": {},
     "output_type": "execute_result"
    }
   ],
   "source": [
    "layer"
   ]
  },
  {
   "cell_type": "markdown",
   "metadata": {},
   "source": [
    "#### You could also publish this, but let's not."
   ]
  }
 ],
 "metadata": {
  "kernelspec": {
   "display_name": "Python 3 (ipykernel)",
   "language": "python",
   "name": "python3"
  },
  "language_info": {
   "codemirror_mode": {
    "name": "ipython",
    "version": 3
   },
   "file_extension": ".py",
   "mimetype": "text/x-python",
   "name": "python",
   "nbconvert_exporter": "python",
   "pygments_lexer": "ipython3",
   "version": "3.10.2"
  },
  "toc": {
   "base_numbering": 1,
   "nav_menu": {},
   "number_sections": false,
   "sideBar": true,
   "skip_h1_title": false,
   "title_cell": "Table of Contents",
   "title_sidebar": "Contents",
   "toc_cell": true,
   "toc_position": {
    "height": "calc(100% - 180px)",
    "left": "10px",
    "top": "150px",
    "width": "165px"
   },
   "toc_section_display": true,
   "toc_window_display": true
  },
  "toc-autonumbering": false
 },
 "nbformat": 4,
 "nbformat_minor": 4
}
